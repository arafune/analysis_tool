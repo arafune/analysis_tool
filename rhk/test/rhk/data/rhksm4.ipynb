{
 "cells": [
  {
   "cell_type": "code",
   "execution_count": 1,
   "metadata": {
    "collapsed": false
   },
   "outputs": [],
   "source": [
    "import struct\n",
    "import rhk.rhksm4 as r4\n",
    "import io\n",
    "import numpy as np\n",
    "import zlib\n",
    "%load_ext autoreload\n",
    "%autoreload 2"
   ]
  },
  {
   "cell_type": "markdown",
   "metadata": {},
   "source": [
    "# test1"
   ]
  },
  {
   "cell_type": "code",
   "execution_count": 2,
   "metadata": {
    "collapsed": false
   },
   "outputs": [
    {
     "data": {
      "text/plain": [
       "(56,)"
      ]
     },
     "execution_count": 2,
     "metadata": {},
     "output_type": "execute_result"
    }
   ],
   "source": [
    "packer = r4.ExtStruct(\"<36s5I\")\n",
    "f = open(\"data3293FFT.sm4\", \"rb\")\n",
    "struct.unpack(\"H\", f.read(2))\n"
   ]
  },
  {
   "cell_type": "code",
   "execution_count": 3,
   "metadata": {
    "collapsed": false
   },
   "outputs": [
    {
     "data": {
      "text/plain": [
       "2"
      ]
     },
     "execution_count": 3,
     "metadata": {},
     "output_type": "execute_result"
    }
   ],
   "source": [
    "f.tell()"
   ]
  },
  {
   "cell_type": "code",
   "execution_count": 4,
   "metadata": {
    "collapsed": true
   },
   "outputs": [],
   "source": [
    "r=packer.unpack_from_file(f)"
   ]
  },
  {
   "cell_type": "code",
   "execution_count": 5,
   "metadata": {
    "collapsed": false
   },
   "outputs": [
    {
     "data": {
      "text/plain": [
       "(b'S\\x00T\\x00i\\x00M\\x00a\\x00g\\x00e\\x00 \\x000\\x000\\x005\\x00.\\x000\\x000\\x004\\x00 \\x001\\x00\\x00\\x00',\n",
       " 2,\n",
       " 3,\n",
       " 12,\n",
       " 0,\n",
       " 0)"
      ]
     },
     "execution_count": 5,
     "metadata": {},
     "output_type": "execute_result"
    }
   ],
   "source": [
    "r"
   ]
  },
  {
   "cell_type": "code",
   "execution_count": 6,
   "metadata": {
    "collapsed": false
   },
   "outputs": [
    {
     "data": {
      "text/plain": [
       "58"
      ]
     },
     "execution_count": 6,
     "metadata": {},
     "output_type": "execute_result"
    }
   ],
   "source": [
    "f.tell()"
   ]
  },
  {
   "cell_type": "markdown",
   "metadata": {},
   "source": [
    "# File object (Top object) & SFileHeader"
   ]
  },
  {
   "cell_type": "code",
   "execution_count": 7,
   "metadata": {
    "collapsed": false
   },
   "outputs": [],
   "source": [
    "f=open(\"data3293FFT.sm4\", 'rb')\n",
    "RF = r4.SM4File(f)"
   ]
  },
  {
   "cell_type": "code",
   "execution_count": 8,
   "metadata": {
    "collapsed": false
   },
   "outputs": [
    {
     "data": {
      "text/plain": [
       "('STiMage 005.004 1\\x00',\n",
       " 2,\n",
       " [<rhk.rhksm4.RHKObject at 0x10ce6c390>,\n",
       "  <rhk.rhksm4.RHKObject at 0x10ce7d208>,\n",
       "  <rhk.rhksm4.RHKObject at 0x10d9a6400>],\n",
       " b'<36s5I',\n",
       " (0, 0))"
      ]
     },
     "execution_count": 8,
     "metadata": {},
     "output_type": "execute_result"
    }
   ],
   "source": [
    "RF.signature.decode('utf-16'), RF.pagecount, RF.children, RF.packer.format,\\\n",
    "RF.reserved,"
   ]
  },
  {
   "cell_type": "code",
   "execution_count": 54,
   "metadata": {
    "collapsed": false
   },
   "outputs": [
    {
     "name": "stdout",
     "output_type": "stream",
     "text": [
      "RHKPageIndexHeader:@94 x 16\n",
      "  RHKPageIndexArray @ 122 x 32\n",
      "RHKPage:\n",
      "RHKPageHeader @ 5242 x 180\n",
      "  RHKStringData @ 5530 x 302\n",
      " FFT image\n",
      " Page 14 of 26, 0.00 V\n",
      " WTe2 4.78K  sens=50 mod=20mV 616Hz TC=3\n",
      " \n",
      " D:\\SPMdata\\20160421\\data3293FFT.sm4\n",
      " 04/22/16\n",
      " 11:01:44\n",
      " m-1\n",
      " m-1\n",
      " V\n",
      " \n",
      " \n",
      " \n",
      " 0256\n",
      " 337\n",
      " \n",
      " \n",
      "  RHKObject of type 5 @ 268052 x 12\n",
      "  RHKObject of type 6 @ 268064 x 28\n",
      "  RHKObject of type 0 @ 0 x 0\n",
      "  RHKObject of type 0 @ 0 x 0\n",
      "  RHKObject of type 9 @ 267976 x 76\n",
      "  RHKObject of type 11 @ 0 x 0\n",
      "  RHKObject of type 0 @ 0 x 0\n",
      "  RHKObject of type 17 @ 0 x 0\n",
      "RHKPageData: @5832 x 262144\n",
      "  \n",
      "RHKObject of type 14 @ 544487 x 65536\n",
      "RHKThumbnailHeader @ 544475 x 12\n",
      " \n",
      "RHKPage:\n",
      "RHKPageHeader @ 268092 x 180\n",
      "  RHKStringData @ 268380 x 302\n",
      " FFT image\n",
      " Page 14 of 26, 0.00 V\n",
      " WTe2 4.78K  sens=50 mod=20mV 616Hz TC=3\n",
      " \n",
      " D:\\SPMdata\\20160421\\data3293FFT.sm4\n",
      " 04/22/16\n",
      " 11:01:44\n",
      " m-1\n",
      " m-1\n",
      " V\n",
      " \n",
      " \n",
      " \n",
      " 0256\n",
      " 337\n",
      " \n",
      " \n",
      "  RHKObject of type 5 @ 530902 x 12\n",
      "  RHKObject of type 6 @ 530914 x 28\n",
      "  RHKObject of type 0 @ 0 x 0\n",
      "  RHKObject of type 0 @ 0 x 0\n",
      "  RHKObject of type 9 @ 530826 x 76\n",
      "  RHKObject of type 11 @ 0 x 0\n",
      "  RHKObject of type 0 @ 0 x 0\n",
      "  RHKObject of type 17 @ 0 x 0\n",
      "RHKPageData: @268682 x 262144\n",
      "  \n",
      "RHKObject of type 14 @ 610035 x 65536\n",
      "RHKThumbnailHeader @ 610023 x 12\n",
      " \n"
     ]
    }
   ],
   "source": [
    "print(RF.children[0])"
   ]
  },
  {
   "cell_type": "code",
   "execution_count": 50,
   "metadata": {
    "collapsed": false
   },
   "outputs": [
    {
     "data": {
      "text/plain": [
       "['RHKPageHeader @ 5242 x 180\\n  RHKStringData @ 5530 x 302\\n FFT image\\n Page 14 of 26, 0.00 V\\n WTe2 4.78K  sens=50 mod=20mV 616Hz TC=3\\n \\n D:\\\\SPMdata\\\\20160421\\\\data3293FFT.sm4\\n 04/22/16\\n 11:01:44\\n m-1\\n m-1\\n V\\n \\n \\n \\n 0256\\n 337\\n \\n \\n  RHKObject of type 5 @ 268052 x 12\\n  RHKObject of type 6 @ 268064 x 28\\n  RHKObject of type 0 @ 0 x 0\\n  RHKObject of type 0 @ 0 x 0\\n  RHKObject of type 9 @ 267976 x 76\\n  RHKObject of type 11 @ 0 x 0\\n  RHKObject of type 0 @ 0 x 0\\n  RHKObject of type 17 @ 0 x 0',\n",
       " 'RHKPageData: @5832 x 262144\\n  ',\n",
       " 'RHKObject of type 14 @ 544487 x 65536',\n",
       " 'RHKThumbnailHeader @ 544475 x 12\\n ']"
      ]
     },
     "execution_count": 50,
     "metadata": {},
     "output_type": "execute_result"
    }
   ],
   "source": [
    "[str(child) for child in RF.children[0].children[0].pages[0].children]"
   ]
  },
  {
   "cell_type": "code",
   "execution_count": 9,
   "metadata": {
    "collapsed": false
   },
   "outputs": [
    {
     "name": "stdout",
     "output_type": "stream",
     "text": [
      "RHKPageIndexHeader:@94 x 16\n",
      "  RHKPageIndexArray @ 122 x 32\n",
      "RHKPage:\n",
      "RHKPageHeader @ 5242 x 180\n",
      "  RHKStringData @ 5530 x 302\n",
      " FFT image\n",
      " Page 14 of 26, 0.00 V\n",
      " WTe2 4.78K  sens=50 mod=20mV 616Hz TC=3\n",
      " \n",
      " D:\\SPMdata\\20160421\\data3293FFT.sm4\n",
      " 04/22/16\n",
      " 11:01:44\n",
      " m-1\n",
      " m-1\n",
      " V\n",
      " \n",
      " \n",
      " \n",
      " 0256\n",
      " 337\n",
      " \n",
      " \n",
      "  RHKObject of type 5 @ 268052 x 12\n",
      "  RHKObject of type 6 @ 268064 x 28\n",
      "  RHKObject of type 0 @ 0 x 0\n",
      "  RHKObject of type 0 @ 0 x 0\n",
      "  RHKObject of type 9 @ 267976 x 76\n",
      "  RHKObject of type 11 @ 0 x 0\n",
      "  RHKObject of type 0 @ 0 x 0\n",
      "  RHKObject of type 17 @ 0 x 0\n",
      "RHKPageData: @5832 x 262144\n",
      "  \n",
      "RHKObject of type 14 @ 544487 x 65536\n",
      "RHKThumbnailHeader @ 544475 x 12\n",
      " \n",
      "RHKPage:\n",
      "RHKPageHeader @ 268092 x 180\n",
      "  RHKStringData @ 268380 x 302\n",
      " FFT image\n",
      " Page 14 of 26, 0.00 V\n",
      " WTe2 4.78K  sens=50 mod=20mV 616Hz TC=3\n",
      " \n",
      " D:\\SPMdata\\20160421\\data3293FFT.sm4\n",
      " 04/22/16\n",
      " 11:01:44\n",
      " m-1\n",
      " m-1\n",
      " V\n",
      " \n",
      " \n",
      " \n",
      " 0256\n",
      " 337\n",
      " \n",
      " \n",
      "  RHKObject of type 5 @ 530902 x 12\n",
      "  RHKObject of type 6 @ 530914 x 28\n",
      "  RHKObject of type 0 @ 0 x 0\n",
      "  RHKObject of type 0 @ 0 x 0\n",
      "  RHKObject of type 9 @ 530826 x 76\n",
      "  RHKObject of type 11 @ 0 x 0\n",
      "  RHKObject of type 0 @ 0 x 0\n",
      "  RHKObject of type 17 @ 0 x 0\n",
      "RHKPageData: @268682 x 262144\n",
      "  \n",
      "RHKObject of type 14 @ 610035 x 65536\n",
      "RHKThumbnailHeader @ 610023 x 12\n",
      " \n"
     ]
    }
   ],
   "source": [
    "print(RF.children[0])"
   ]
  },
  {
   "cell_type": "code",
   "execution_count": 10,
   "metadata": {
    "collapsed": false
   },
   "outputs": [
    {
     "data": {
      "text/plain": [
       "([rhk.rhksm4.RHKObject, rhk.rhksm4.RHKObject, rhk.rhksm4.RHKObject],\n",
       " [1, 13, 15],\n",
       " ['PageIndexHeader', 'PRM', 'PRMHeader'],\n",
       " ['PageIndexHeader', '', 'PRMHeader'],\n",
       " [94, 530954, 530942],\n",
       " [16, 13521, 12])"
      ]
     },
     "execution_count": 10,
     "metadata": {},
     "output_type": "execute_result"
    }
   ],
   "source": [
    "[type(child) for child in RF.children],\\\n",
    "[child.objtype for child in RF.children],\\\n",
    "[child.objectIds[child.objtype] for child in RF.children],\\\n",
    "[child.objname for child in RF.children],\\\n",
    "[child.offset for child in RF.children],\\\n",
    "[child.size for child in RF.children]"
   ]
  },
  {
   "cell_type": "code",
   "execution_count": 11,
   "metadata": {
    "collapsed": false
   },
   "outputs": [
    {
     "name": "stdout",
     "output_type": "stream",
     "text": [
      "-rw-r--r--+ 1 arafune  staff  675571 11 23 21:48 data3293FFT.sm4\r\n"
     ]
    }
   ],
   "source": [
    "ls -la data3293FFT.sm4"
   ]
  },
  {
   "cell_type": "code",
   "execution_count": 12,
   "metadata": {
    "collapsed": false
   },
   "outputs": [],
   "source": [
    "[child1, child2, child3] = RF.children\n",
    "# child1 is PageIndexHeader\n",
    "    # child1 has a child object PageIndexArray\n",
    "# child2 is RHK_RPM (not implementd)\n",
    "# child3 is RHK_PRMHEader"
   ]
  },
  {
   "cell_type": "code",
   "execution_count": 13,
   "metadata": {
    "collapsed": false
   },
   "outputs": [
    {
     "data": {
      "text/plain": [
       "[16, 13521, 12]"
      ]
     },
     "execution_count": 13,
     "metadata": {},
     "output_type": "execute_result"
    }
   ],
   "source": [
    "[child.size for child in RF.children]"
   ]
  },
  {
   "cell_type": "code",
   "execution_count": 14,
   "metadata": {
    "collapsed": false
   },
   "outputs": [
    {
     "data": {
      "text/plain": [
       "1"
      ]
     },
     "execution_count": 14,
     "metadata": {},
     "output_type": "execute_result"
    }
   ],
   "source": [
    "child1.objtype"
   ]
  },
  {
   "cell_type": "code",
   "execution_count": 15,
   "metadata": {
    "collapsed": false
   },
   "outputs": [
    {
     "data": {
      "text/plain": [
       "13"
      ]
     },
     "execution_count": 15,
     "metadata": {},
     "output_type": "execute_result"
    }
   ],
   "source": [
    "child2.objtype"
   ]
  },
  {
   "cell_type": "code",
   "execution_count": 16,
   "metadata": {
    "collapsed": false
   },
   "outputs": [
    {
     "data": {
      "text/plain": [
       "15"
      ]
     },
     "execution_count": 16,
     "metadata": {},
     "output_type": "execute_result"
    }
   ],
   "source": [
    "child3.objtype"
   ]
  },
  {
   "cell_type": "markdown",
   "metadata": {},
   "source": [
    "# Child1"
   ]
  },
  {
   "cell_type": "code",
   "execution_count": 17,
   "metadata": {
    "collapsed": false
   },
   "outputs": [
    {
     "data": {
      "text/plain": [
       "rhk.rhksm4.RHKObject"
      ]
     },
     "execution_count": 17,
     "metadata": {},
     "output_type": "execute_result"
    }
   ],
   "source": [
    "type(child1)"
   ]
  },
  {
   "cell_type": "code",
   "execution_count": 18,
   "metadata": {
    "collapsed": false
   },
   "outputs": [
    {
     "data": {
      "text/plain": [
       "'PageIndexHeader'"
      ]
     },
     "execution_count": 18,
     "metadata": {},
     "output_type": "execute_result"
    }
   ],
   "source": [
    "child1.objname"
   ]
  },
  {
   "cell_type": "code",
   "execution_count": 19,
   "metadata": {
    "collapsed": false
   },
   "outputs": [
    {
     "name": "stdout",
     "output_type": "stream",
     "text": [
      "RHKPageIndexHeader:@94 x 16\n",
      "  RHKPageIndexArray @ 122 x 32\n",
      "RHKPage:\n",
      "RHKPageHeader @ 5242 x 180\n",
      "  RHKStringData @ 5530 x 302\n",
      " FFT image\n",
      " Page 14 of 26, 0.00 V\n",
      " WTe2 4.78K  sens=50 mod=20mV 616Hz TC=3\n",
      " \n",
      " D:\\SPMdata\\20160421\\data3293FFT.sm4\n",
      " 04/22/16\n",
      " 11:01:44\n",
      " m-1\n",
      " m-1\n",
      " V\n",
      " \n",
      " \n",
      " \n",
      " 0256\n",
      " 337\n",
      " \n",
      " \n",
      "  RHKObject of type 5 @ 268052 x 12\n",
      "  RHKObject of type 6 @ 268064 x 28\n",
      "  RHKObject of type 0 @ 0 x 0\n",
      "  RHKObject of type 0 @ 0 x 0\n",
      "  RHKObject of type 9 @ 267976 x 76\n",
      "  RHKObject of type 11 @ 0 x 0\n",
      "  RHKObject of type 0 @ 0 x 0\n",
      "  RHKObject of type 17 @ 0 x 0\n",
      "RHKPageData: @5832 x 262144\n",
      "  \n",
      "RHKObject of type 14 @ 544487 x 65536\n",
      "RHKThumbnailHeader @ 544475 x 12\n",
      " \n",
      "RHKPage:\n",
      "RHKPageHeader @ 268092 x 180\n",
      "  RHKStringData @ 268380 x 302\n",
      " FFT image\n",
      " Page 14 of 26, 0.00 V\n",
      " WTe2 4.78K  sens=50 mod=20mV 616Hz TC=3\n",
      " \n",
      " D:\\SPMdata\\20160421\\data3293FFT.sm4\n",
      " 04/22/16\n",
      " 11:01:44\n",
      " m-1\n",
      " m-1\n",
      " V\n",
      " \n",
      " \n",
      " \n",
      " 0256\n",
      " 337\n",
      " \n",
      " \n",
      "  RHKObject of type 5 @ 530902 x 12\n",
      "  RHKObject of type 6 @ 530914 x 28\n",
      "  RHKObject of type 0 @ 0 x 0\n",
      "  RHKObject of type 0 @ 0 x 0\n",
      "  RHKObject of type 9 @ 530826 x 76\n",
      "  RHKObject of type 11 @ 0 x 0\n",
      "  RHKObject of type 0 @ 0 x 0\n",
      "  RHKObject of type 17 @ 0 x 0\n",
      "RHKPageData: @268682 x 262144\n",
      "  \n",
      "RHKObject of type 14 @ 610035 x 65536\n",
      "RHKThumbnailHeader @ 610023 x 12\n",
      " \n"
     ]
    }
   ],
   "source": [
    "print(child1)"
   ]
  },
  {
   "cell_type": "code",
   "execution_count": 20,
   "metadata": {
    "collapsed": false
   },
   "outputs": [
    {
     "data": {
      "text/plain": [
       "(2, 'PageIndexArray')"
      ]
     },
     "execution_count": 20,
     "metadata": {},
     "output_type": "execute_result"
    }
   ],
   "source": [
    "child1.pagecount, child1.children[0].objname"
   ]
  },
  {
   "cell_type": "code",
   "execution_count": 21,
   "metadata": {
    "collapsed": false
   },
   "outputs": [
    {
     "name": "stdout",
     "output_type": "stream",
     "text": [
      "RHKPageIndexArray @ 122 x 32\n",
      "RHKPage:\n",
      "RHKPageHeader @ 5242 x 180\n",
      "  RHKStringData @ 5530 x 302\n",
      " FFT image\n",
      " Page 14 of 26, 0.00 V\n",
      " WTe2 4.78K  sens=50 mod=20mV 616Hz TC=3\n",
      " \n",
      " D:\\SPMdata\\20160421\\data3293FFT.sm4\n",
      " 04/22/16\n",
      " 11:01:44\n",
      " m-1\n",
      " m-1\n",
      " V\n",
      " \n",
      " \n",
      " \n",
      " 0256\n",
      " 337\n",
      " \n",
      " \n",
      "  RHKObject of type 5 @ 268052 x 12\n",
      "  RHKObject of type 6 @ 268064 x 28\n",
      "  RHKObject of type 0 @ 0 x 0\n",
      "  RHKObject of type 0 @ 0 x 0\n",
      "  RHKObject of type 9 @ 267976 x 76\n",
      "  RHKObject of type 11 @ 0 x 0\n",
      "  RHKObject of type 0 @ 0 x 0\n",
      "  RHKObject of type 17 @ 0 x 0\n",
      "RHKPageData: @5832 x 262144\n",
      "  \n",
      "RHKObject of type 14 @ 544487 x 65536\n",
      "RHKThumbnailHeader @ 544475 x 12\n",
      " \n",
      "RHKPage:\n",
      "RHKPageHeader @ 268092 x 180\n",
      "  RHKStringData @ 268380 x 302\n",
      " FFT image\n",
      " Page 14 of 26, 0.00 V\n",
      " WTe2 4.78K  sens=50 mod=20mV 616Hz TC=3\n",
      " \n",
      " D:\\SPMdata\\20160421\\data3293FFT.sm4\n",
      " 04/22/16\n",
      " 11:01:44\n",
      " m-1\n",
      " m-1\n",
      " V\n",
      " \n",
      " \n",
      " \n",
      " 0256\n",
      " 337\n",
      " \n",
      " \n",
      "  RHKObject of type 5 @ 530902 x 12\n",
      "  RHKObject of type 6 @ 530914 x 28\n",
      "  RHKObject of type 0 @ 0 x 0\n",
      "  RHKObject of type 0 @ 0 x 0\n",
      "  RHKObject of type 9 @ 530826 x 76\n",
      "  RHKObject of type 11 @ 0 x 0\n",
      "  RHKObject of type 0 @ 0 x 0\n",
      "  RHKObject of type 17 @ 0 x 0\n",
      "RHKPageData: @268682 x 262144\n",
      "  \n",
      "RHKObject of type 14 @ 610035 x 65536\n",
      "RHKThumbnailHeader @ 610023 x 12\n",
      " \n"
     ]
    }
   ],
   "source": [
    "print(child1.children[0])"
   ]
  },
  {
   "cell_type": "markdown",
   "metadata": {},
   "source": [
    "# GrandChild1"
   ]
  },
  {
   "cell_type": "code",
   "execution_count": 22,
   "metadata": {
    "collapsed": false
   },
   "outputs": [],
   "source": [
    "grandchild1 = child1.children[0]"
   ]
  },
  {
   "cell_type": "code",
   "execution_count": 23,
   "metadata": {
    "collapsed": false
   },
   "outputs": [
    {
     "data": {
      "text/plain": [
       "(<rhk.rhksm4.RHKObject at 0x10f0e39b0>, 'PageHeader')"
      ]
     },
     "execution_count": 23,
     "metadata": {},
     "output_type": "execute_result"
    }
   ],
   "source": [
    "grandchild1.pages[0].children[0], grandchild1.pages[0].children[0].objname, "
   ]
  },
  {
   "cell_type": "code",
   "execution_count": 24,
   "metadata": {
    "collapsed": false
   },
   "outputs": [
    {
     "data": {
      "text/plain": [
       "4"
      ]
     },
     "execution_count": 24,
     "metadata": {},
     "output_type": "execute_result"
    }
   ],
   "source": [
    "grandchild1.pages[0].children[1].objtype"
   ]
  },
  {
   "cell_type": "code",
   "execution_count": 25,
   "metadata": {
    "collapsed": false
   },
   "outputs": [
    {
     "data": {
      "text/plain": [
       "(<rhk.rhksm4.RHKObject at 0x10f0e39b0>, <rhk.rhksm4.RHKPage at 0x10f0e3940>)"
      ]
     },
     "execution_count": 25,
     "metadata": {},
     "output_type": "execute_result"
    }
   ],
   "source": [
    "grandchild1.pages[0].children[1].parent.children[0], grandchild1.pages[0].children[1].parent"
   ]
  },
  {
   "cell_type": "code",
   "execution_count": 26,
   "metadata": {
    "collapsed": false
   },
   "outputs": [
    {
     "data": {
      "text/plain": [
       "'image data'"
      ]
     },
     "execution_count": 26,
     "metadata": {},
     "output_type": "execute_result"
    }
   ],
   "source": [
    " grandchild1.pages[0].children[1].parent.datatype_name"
   ]
  },
  {
   "cell_type": "code",
   "execution_count": 27,
   "metadata": {
    "collapsed": false
   },
   "outputs": [
    {
     "name": "stdout",
     "output_type": "stream",
     "text": [
      "RHKPageIndexArray @ 122 x 32\n",
      "RHKPage:\n",
      "RHKPageHeader @ 5242 x 180\n",
      "  RHKStringData @ 5530 x 302\n",
      " FFT image\n",
      " Page 14 of 26, 0.00 V\n",
      " WTe2 4.78K  sens=50 mod=20mV 616Hz TC=3\n",
      " \n",
      " D:\\SPMdata\\20160421\\data3293FFT.sm4\n",
      " 04/22/16\n",
      " 11:01:44\n",
      " m-1\n",
      " m-1\n",
      " V\n",
      " \n",
      " \n",
      " \n",
      " 0256\n",
      " 337\n",
      " \n",
      " \n",
      "  RHKObject of type 5 @ 268052 x 12\n",
      "  RHKObject of type 6 @ 268064 x 28\n",
      "  RHKObject of type 0 @ 0 x 0\n",
      "  RHKObject of type 0 @ 0 x 0\n",
      "  RHKObject of type 9 @ 267976 x 76\n",
      "  RHKObject of type 11 @ 0 x 0\n",
      "  RHKObject of type 0 @ 0 x 0\n",
      "  RHKObject of type 17 @ 0 x 0\n",
      "RHKPageData: @5832 x 262144\n",
      "  \n",
      "RHKObject of type 14 @ 544487 x 65536\n",
      "RHKThumbnailHeader @ 544475 x 12\n",
      " \n",
      "RHKPage:\n",
      "RHKPageHeader @ 268092 x 180\n",
      "  RHKStringData @ 268380 x 302\n",
      " FFT image\n",
      " Page 14 of 26, 0.00 V\n",
      " WTe2 4.78K  sens=50 mod=20mV 616Hz TC=3\n",
      " \n",
      " D:\\SPMdata\\20160421\\data3293FFT.sm4\n",
      " 04/22/16\n",
      " 11:01:44\n",
      " m-1\n",
      " m-1\n",
      " V\n",
      " \n",
      " \n",
      " \n",
      " 0256\n",
      " 337\n",
      " \n",
      " \n",
      "  RHKObject of type 5 @ 530902 x 12\n",
      "  RHKObject of type 6 @ 530914 x 28\n",
      "  RHKObject of type 0 @ 0 x 0\n",
      "  RHKObject of type 0 @ 0 x 0\n",
      "  RHKObject of type 9 @ 530826 x 76\n",
      "  RHKObject of type 11 @ 0 x 0\n",
      "  RHKObject of type 0 @ 0 x 0\n",
      "  RHKObject of type 17 @ 0 x 0\n",
      "RHKPageData: @268682 x 262144\n",
      "  \n",
      "RHKObject of type 14 @ 610035 x 65536\n",
      "RHKThumbnailHeader @ 610023 x 12\n",
      " \n"
     ]
    }
   ],
   "source": [
    "print(grandchild1)"
   ]
  },
  {
   "cell_type": "code",
   "execution_count": 28,
   "metadata": {
    "collapsed": false
   },
   "outputs": [
    {
     "data": {
      "text/plain": [
       "4.0"
      ]
     },
     "execution_count": 28,
     "metadata": {},
     "output_type": "execute_result"
    }
   ],
   "source": [
    "262144 / 256 /256"
   ]
  },
  {
   "cell_type": "code",
   "execution_count": 29,
   "metadata": {
    "collapsed": false
   },
   "outputs": [
    {
     "data": {
      "text/plain": [
       "[<rhk.rhksm4.RHKPage at 0x10f0e3940>, <rhk.rhksm4.RHKPage at 0x10f0e3a90>]"
      ]
     },
     "execution_count": 29,
     "metadata": {},
     "output_type": "execute_result"
    }
   ],
   "source": [
    "grandchild1.pages"
   ]
  },
  {
   "cell_type": "code",
   "execution_count": 30,
   "metadata": {
    "collapsed": false
   },
   "outputs": [
    {
     "data": {
      "text/plain": [
       "4.0"
      ]
     },
     "execution_count": 30,
     "metadata": {},
     "output_type": "execute_result"
    }
   ],
   "source": [
    "65536 / 128 /128"
   ]
  },
  {
   "cell_type": "code",
   "execution_count": 31,
   "metadata": {
    "collapsed": false
   },
   "outputs": [
    {
     "data": {
      "text/plain": [
       "('ᇶ\\u0c84䃙䥌늌ↂ텢앜', 0, 1, 4, 4)"
      ]
     },
     "execution_count": 31,
     "metadata": {},
     "output_type": "execute_result"
    }
   ],
   "source": [
    "grandchild1.pages[0].page_id.decode('utf-16'),\\\n",
    "grandchild1.pages[0].datatype,\\\n",
    "grandchild1.pages[0].sourcetype,\\\n",
    "grandchild1.pages[0].objcount, \\\n",
    "grandchild1.pages[0].minorversion"
   ]
  },
  {
   "cell_type": "code",
   "execution_count": 32,
   "metadata": {
    "collapsed": false
   },
   "outputs": [
    {
     "data": {
      "text/plain": [
       "('ᇶ\\u0c84䃙䥌늌ↂ텢앜', 0, 0, 4, 4)"
      ]
     },
     "execution_count": 32,
     "metadata": {},
     "output_type": "execute_result"
    }
   ],
   "source": [
    "grandchild1.pages[1].page_id.decode('utf-16'),\\\n",
    "grandchild1.pages[1].datatype,\\\n",
    "grandchild1.pages[1].sourcetype,\\\n",
    "grandchild1.pages[1].objcount, \\\n",
    "grandchild1.pages[1].minorversion"
   ]
  },
  {
   "cell_type": "code",
   "execution_count": 33,
   "metadata": {
    "collapsed": false
   },
   "outputs": [
    {
     "data": {
      "text/plain": [
       "['PageHeader', 'PageData', '', 'ThumbnailHeader']"
      ]
     },
     "execution_count": 33,
     "metadata": {},
     "output_type": "execute_result"
    }
   ],
   "source": [
    "[child.objname for child in grandchild1.pages[0].children]"
   ]
  },
  {
   "cell_type": "code",
   "execution_count": 34,
   "metadata": {
    "collapsed": false
   },
   "outputs": [
    {
     "name": "stdout",
     "output_type": "stream",
     "text": [
      "RHKPageIndexArray @ 122 x 32\n",
      "RHKPage:\n",
      "RHKPageHeader @ 5242 x 180\n",
      "  RHKStringData @ 5530 x 302\n",
      " FFT image\n",
      " Page 14 of 26, 0.00 V\n",
      " WTe2 4.78K  sens=50 mod=20mV 616Hz TC=3\n",
      " \n",
      " D:\\SPMdata\\20160421\\data3293FFT.sm4\n",
      " 04/22/16\n",
      " 11:01:44\n",
      " m-1\n",
      " m-1\n",
      " V\n",
      " \n",
      " \n",
      " \n",
      " 0256\n",
      " 337\n",
      " \n",
      " \n",
      "  RHKObject of type 5 @ 268052 x 12\n",
      "  RHKObject of type 6 @ 268064 x 28\n",
      "  RHKObject of type 0 @ 0 x 0\n",
      "  RHKObject of type 0 @ 0 x 0\n",
      "  RHKObject of type 9 @ 267976 x 76\n",
      "  RHKObject of type 11 @ 0 x 0\n",
      "  RHKObject of type 0 @ 0 x 0\n",
      "  RHKObject of type 17 @ 0 x 0\n",
      "RHKPageData: @5832 x 262144\n",
      "  \n",
      "RHKObject of type 14 @ 544487 x 65536\n",
      "RHKThumbnailHeader @ 544475 x 12\n",
      " \n",
      "RHKPage:\n",
      "RHKPageHeader @ 268092 x 180\n",
      "  RHKStringData @ 268380 x 302\n",
      " FFT image\n",
      " Page 14 of 26, 0.00 V\n",
      " WTe2 4.78K  sens=50 mod=20mV 616Hz TC=3\n",
      " \n",
      " D:\\SPMdata\\20160421\\data3293FFT.sm4\n",
      " 04/22/16\n",
      " 11:01:44\n",
      " m-1\n",
      " m-1\n",
      " V\n",
      " \n",
      " \n",
      " \n",
      " 0256\n",
      " 337\n",
      " \n",
      " \n",
      "  RHKObject of type 5 @ 530902 x 12\n",
      "  RHKObject of type 6 @ 530914 x 28\n",
      "  RHKObject of type 0 @ 0 x 0\n",
      "  RHKObject of type 0 @ 0 x 0\n",
      "  RHKObject of type 9 @ 530826 x 76\n",
      "  RHKObject of type 11 @ 0 x 0\n",
      "  RHKObject of type 0 @ 0 x 0\n",
      "  RHKObject of type 17 @ 0 x 0\n",
      "RHKPageData: @268682 x 262144\n",
      "  \n",
      "RHKObject of type 14 @ 610035 x 65536\n",
      "RHKThumbnailHeader @ 610023 x 12\n",
      " \n"
     ]
    }
   ],
   "source": [
    "print(grandchild1)"
   ]
  },
  {
   "cell_type": "code",
   "execution_count": 35,
   "metadata": {
    "collapsed": false
   },
   "outputs": [
    {
     "name": "stdout",
     "output_type": "stream",
     "text": [
      "RHKPage:\n",
      "RHKPageHeader @ 5242 x 180\n",
      "  RHKStringData @ 5530 x 302\n",
      " FFT image\n",
      " Page 14 of 26, 0.00 V\n",
      " WTe2 4.78K  sens=50 mod=20mV 616Hz TC=3\n",
      " \n",
      " D:\\SPMdata\\20160421\\data3293FFT.sm4\n",
      " 04/22/16\n",
      " 11:01:44\n",
      " m-1\n",
      " m-1\n",
      " V\n",
      " \n",
      " \n",
      " \n",
      " 0256\n",
      " 337\n",
      " \n",
      " \n",
      "  RHKObject of type 5 @ 268052 x 12\n",
      "  RHKObject of type 6 @ 268064 x 28\n",
      "  RHKObject of type 0 @ 0 x 0\n",
      "  RHKObject of type 0 @ 0 x 0\n",
      "  RHKObject of type 9 @ 267976 x 76\n",
      "  RHKObject of type 11 @ 0 x 0\n",
      "  RHKObject of type 0 @ 0 x 0\n",
      "  RHKObject of type 17 @ 0 x 0\n",
      "RHKPageData: @5832 x 262144\n",
      "  \n",
      "RHKObject of type 14 @ 544487 x 65536\n",
      "RHKThumbnailHeader @ 544475 x 12\n",
      " \n",
      "[<rhk.rhksm4.RHKObject object at 0x10f0e39b0>, <rhk.rhksm4.RHKObject object at 0x10f0e39e8>, <rhk.rhksm4.RHKObject object at 0x10f0e3a20>, <rhk.rhksm4.RHKObject object at 0x10f0e3a58>]\n"
     ]
    },
    {
     "data": {
      "text/plain": [
       "['PageHeader', 'PageData', '', 'ThumbnailHeader']"
      ]
     },
     "execution_count": 35,
     "metadata": {},
     "output_type": "execute_result"
    }
   ],
   "source": [
    "print(grandchild1.pages[0])\n",
    "print(grandchild1.pages[0].children)\n",
    "[gchild.objname for gchild in grandchild1.pages[0].children]"
   ]
  },
  {
   "cell_type": "code",
   "execution_count": 36,
   "metadata": {
    "collapsed": false
   },
   "outputs": [
    {
     "name": "stdout",
     "output_type": "stream",
     "text": [
      "RHKPageHeader @ 5242 x 180\n",
      "  RHKStringData @ 5530 x 302\n",
      " FFT image\n",
      " Page 14 of 26, 0.00 V\n",
      " WTe2 4.78K  sens=50 mod=20mV 616Hz TC=3\n",
      " \n",
      " D:\\SPMdata\\20160421\\data3293FFT.sm4\n",
      " 04/22/16\n",
      " 11:01:44\n",
      " m-1\n",
      " m-1\n",
      " V\n",
      " \n",
      " \n",
      " \n",
      " 0256\n",
      " 337\n",
      " \n",
      " \n",
      "  RHKObject of type 5 @ 268052 x 12\n",
      "  RHKObject of type 6 @ 268064 x 28\n",
      "  RHKObject of type 0 @ 0 x 0\n",
      "  RHKObject of type 0 @ 0 x 0\n",
      "  RHKObject of type 9 @ 267976 x 76\n",
      "  RHKObject of type 11 @ 0 x 0\n",
      "  RHKObject of type 0 @ 0 x 0\n",
      "  RHKObject of type 17 @ 0 x 0\n"
     ]
    },
    {
     "data": {
      "text/plain": [
       "(None, 3)"
      ]
     },
     "execution_count": 36,
     "metadata": {},
     "output_type": "execute_result"
    }
   ],
   "source": [
    "print(grandchild1.pages[0].children[0]), grandchild1.pages[0].children[0].objtype"
   ]
  },
  {
   "cell_type": "code",
   "execution_count": 37,
   "metadata": {
    "collapsed": false
   },
   "outputs": [],
   "source": [
    "x=grandchild1.pages[0].children[0]"
   ]
  },
  {
   "cell_type": "code",
   "execution_count": 38,
   "metadata": {
    "collapsed": false
   },
   "outputs": [
    {
     "data": {
      "text/plain": [
       "3"
      ]
     },
     "execution_count": 38,
     "metadata": {},
     "output_type": "execute_result"
    }
   ],
   "source": [
    "x.objtype"
   ]
  },
  {
   "cell_type": "code",
   "execution_count": 39,
   "metadata": {
    "collapsed": false
   },
   "outputs": [
    {
     "data": {
      "text/plain": [
       "<bound method RHKPageHeader.__str__ of <rhk.rhksm4.RHKObject object at 0x10f0e39b0>>"
      ]
     },
     "execution_count": 39,
     "metadata": {},
     "output_type": "execute_result"
    }
   ],
   "source": [
    "grandchild1.pages[0].children[0].__str__"
   ]
  },
  {
   "cell_type": "markdown",
   "metadata": {},
   "source": [
    "## GrandChild1 - page1 & Page2"
   ]
  },
  {
   "cell_type": "code",
   "execution_count": 40,
   "metadata": {
    "collapsed": true
   },
   "outputs": [],
   "source": [
    "grandchild1page1 = grandchild1.pages[0]\n",
    "grandchild1page2 = grandchild1.pages[1]"
   ]
  },
  {
   "cell_type": "code",
   "execution_count": 41,
   "metadata": {
    "collapsed": false
   },
   "outputs": [
    {
     "data": {
      "text/plain": [
       "<rhk.rhksm4.RHKPage at 0x10f0e3940>"
      ]
     },
     "execution_count": 41,
     "metadata": {},
     "output_type": "execute_result"
    }
   ],
   "source": [
    "grandchild1page1"
   ]
  },
  {
   "cell_type": "code",
   "execution_count": 42,
   "metadata": {
    "collapsed": false
   },
   "outputs": [
    {
     "name": "stdout",
     "output_type": "stream",
     "text": [
      "RHKPage:\n",
      "RHKPageHeader @ 5242 x 180\n",
      "  RHKStringData @ 5530 x 302\n",
      " FFT image\n",
      " Page 14 of 26, 0.00 V\n",
      " WTe2 4.78K  sens=50 mod=20mV 616Hz TC=3\n",
      " \n",
      " D:\\SPMdata\\20160421\\data3293FFT.sm4\n",
      " 04/22/16\n",
      " 11:01:44\n",
      " m-1\n",
      " m-1\n",
      " V\n",
      " \n",
      " \n",
      " \n",
      " 0256\n",
      " 337\n",
      " \n",
      " \n",
      "  RHKObject of type 5 @ 268052 x 12\n",
      "  RHKObject of type 6 @ 268064 x 28\n",
      "  RHKObject of type 0 @ 0 x 0\n",
      "  RHKObject of type 0 @ 0 x 0\n",
      "  RHKObject of type 9 @ 267976 x 76\n",
      "  RHKObject of type 11 @ 0 x 0\n",
      "  RHKObject of type 0 @ 0 x 0\n",
      "  RHKObject of type 17 @ 0 x 0\n",
      "RHKPageData: @5832 x 262144\n",
      "  \n",
      "RHKObject of type 14 @ 544487 x 65536\n",
      "RHKThumbnailHeader @ 544475 x 12\n",
      " \n"
     ]
    }
   ],
   "source": [
    "print(grandchild1page1)"
   ]
  },
  {
   "cell_type": "code",
   "execution_count": 43,
   "metadata": {
    "collapsed": false
   },
   "outputs": [
    {
     "ename": "AttributeError",
     "evalue": "'RHKPage' object has no attribute 'info'",
     "output_type": "error",
     "traceback": [
      "\u001b[0;31m---------------------------------------------------------------------------\u001b[0m",
      "\u001b[0;31mAttributeError\u001b[0m                            Traceback (most recent call last)",
      "\u001b[0;32m<ipython-input-43-23d80a648004>\u001b[0m in \u001b[0;36m<module>\u001b[0;34m()\u001b[0m\n\u001b[0;32m----> 1\u001b[0;31m \u001b[0mgrandchild1page1\u001b[0m\u001b[0;34m.\u001b[0m\u001b[0minfo\u001b[0m\u001b[0;34m[\u001b[0m\u001b[0;36m0\u001b[0m\u001b[0;34m]\u001b[0m\u001b[0;34m.\u001b[0m\u001b[0mdecode\u001b[0m\u001b[0;34m(\u001b[0m\u001b[0;34m'utf-16'\u001b[0m\u001b[0;34m)\u001b[0m\u001b[0;34m\u001b[0m\u001b[0m\n\u001b[0m",
      "\u001b[0;31mAttributeError\u001b[0m: 'RHKPage' object has no attribute 'info'"
     ]
    }
   ],
   "source": [
    "grandchild1page1.info[0].decode('utf-16')"
   ]
  },
  {
   "cell_type": "code",
   "execution_count": null,
   "metadata": {
    "collapsed": false
   },
   "outputs": [],
   "source": [
    "print(grandchild1page2)"
   ]
  },
  {
   "cell_type": "code",
   "execution_count": null,
   "metadata": {
    "collapsed": false
   },
   "outputs": [],
   "source": [
    "[a.objtype for a in grandchild1page1.children]"
   ]
  },
  {
   "cell_type": "code",
   "execution_count": null,
   "metadata": {
    "collapsed": false
   },
   "outputs": [],
   "source": [
    "[a.objtype for a in child1.children[0].pages[0].children[0].children]"
   ]
  },
  {
   "cell_type": "code",
   "execution_count": null,
   "metadata": {
    "collapsed": false
   },
   "outputs": [],
   "source": [
    "[child1.children[0].pages[0].children[0].children[i].children for i in range(9)]"
   ]
  },
  {
   "cell_type": "code",
   "execution_count": null,
   "metadata": {
    "collapsed": false
   },
   "outputs": [],
   "source": [
    "[a.objtype for a in grandchild1page2.children]"
   ]
  },
  {
   "cell_type": "code",
   "execution_count": null,
   "metadata": {
    "collapsed": false
   },
   "outputs": [],
   "source": [
    "grandchild1page1.children[3].header, grandchild1page1.children[3].size"
   ]
  },
  {
   "cell_type": "code",
   "execution_count": null,
   "metadata": {
    "collapsed": false
   },
   "outputs": [],
   "source": [
    "\"\\n\".join(grandchild1page1.children[3].header)"
   ]
  },
  {
   "cell_type": "code",
   "execution_count": null,
   "metadata": {
    "collapsed": false
   },
   "outputs": [],
   "source": [
    "\"\\n\".join(int([3,4,5]))"
   ]
  },
  {
   "cell_type": "markdown",
   "metadata": {},
   "source": [
    "# Child2 & Child3"
   ]
  },
  {
   "cell_type": "code",
   "execution_count": null,
   "metadata": {
    "collapsed": false
   },
   "outputs": [],
   "source": [
    "type(child2)"
   ]
  },
  {
   "cell_type": "code",
   "execution_count": null,
   "metadata": {
    "collapsed": false
   },
   "outputs": [],
   "source": [
    "print(child2)"
   ]
  },
  {
   "cell_type": "code",
   "execution_count": null,
   "metadata": {
    "collapsed": false
   },
   "outputs": [],
   "source": [
    "child2.contents"
   ]
  },
  {
   "cell_type": "code",
   "execution_count": null,
   "metadata": {
    "collapsed": false
   },
   "outputs": [],
   "source": [
    "child3.objtype"
   ]
  },
  {
   "cell_type": "code",
   "execution_count": null,
   "metadata": {
    "collapsed": false
   },
   "outputs": [],
   "source": [
    "struct.unpack('<3I', child3.contents)"
   ]
  },
  {
   "cell_type": "code",
   "execution_count": null,
   "metadata": {
    "collapsed": false
   },
   "outputs": [],
   "source": [
    "child2.size"
   ]
  },
  {
   "cell_type": "code",
   "execution_count": null,
   "metadata": {
    "collapsed": false
   },
   "outputs": [],
   "source": [
    "zlib.decompress(child2.contents)"
   ]
  },
  {
   "cell_type": "code",
   "execution_count": null,
   "metadata": {
    "collapsed": false
   },
   "outputs": [],
   "source": [
    "print(child1.children[0])"
   ]
  },
  {
   "cell_type": "code",
   "execution_count": null,
   "metadata": {
    "collapsed": false
   },
   "outputs": [],
   "source": [
    "print(child1.children[0])"
   ]
  },
  {
   "cell_type": "code",
   "execution_count": null,
   "metadata": {
    "collapsed": false
   },
   "outputs": [],
   "source": [
    "child2.offset, child2.size, child3.offset, child3.size"
   ]
  },
  {
   "cell_type": "code",
   "execution_count": null,
   "metadata": {
    "collapsed": false
   },
   "outputs": [],
   "source": [
    "child3.children"
   ]
  },
  {
   "cell_type": "code",
   "execution_count": null,
   "metadata": {
    "collapsed": false
   },
   "outputs": [],
   "source": [
    "grandchild1 = child1.children[0]"
   ]
  },
  {
   "cell_type": "code",
   "execution_count": null,
   "metadata": {
    "collapsed": false
   },
   "outputs": [],
   "source": [
    "p1=grandchild1.pages[0]"
   ]
  },
  {
   "cell_type": "code",
   "execution_count": null,
   "metadata": {
    "collapsed": false
   },
   "outputs": [],
   "source": [
    "print(p1)"
   ]
  },
  {
   "cell_type": "code",
   "execution_count": null,
   "metadata": {
    "collapsed": false
   },
   "outputs": [],
   "source": [
    "x = 256\n",
    "y = 256\n",
    "str(x*y*4)+\"f\""
   ]
  },
  {
   "cell_type": "code",
   "execution_count": null,
   "metadata": {
    "collapsed": false
   },
   "outputs": [],
   "source": [
    "x = [1,2,3,4,5,6,7,8]\n",
    "np.array(x).reshape(2,4)"
   ]
  },
  {
   "cell_type": "code",
   "execution_count": null,
   "metadata": {
    "collapsed": false
   },
   "outputs": [],
   "source": [
    "isinstance(x, list)"
   ]
  },
  {
   "cell_type": "code",
   "execution_count": null,
   "metadata": {
    "collapsed": false
   },
   "outputs": [],
   "source": [
    "512/4"
   ]
  },
  {
   "cell_type": "code",
   "execution_count": null,
   "metadata": {
    "collapsed": true
   },
   "outputs": [],
   "source": []
  }
 ],
 "metadata": {
  "kernelspec": {
   "display_name": "Python 3",
   "language": "python",
   "name": "python3"
  },
  "language_info": {
   "codemirror_mode": {
    "name": "ipython",
    "version": 3
   },
   "file_extension": ".py",
   "mimetype": "text/x-python",
   "name": "python",
   "nbconvert_exporter": "python",
   "pygments_lexer": "ipython3",
   "version": "3.5.2"
  }
 },
 "nbformat": 4,
 "nbformat_minor": 1
}
