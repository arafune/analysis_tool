{
 "cells": [
  {
   "cell_type": "code",
   "execution_count": 136,
   "metadata": {
    "collapsed": true
   },
   "outputs": [],
   "source": [
    "from lxml import etree\n",
    "import numpy as np\n",
    "import matplotlib.pyplot as plt\n",
    "%matplotlib inline"
   ]
  },
  {
   "cell_type": "code",
   "execution_count": 14,
   "metadata": {
    "collapsed": false
   },
   "outputs": [],
   "source": [
    "%load_ext autoreload"
   ]
  },
  {
   "cell_type": "code",
   "execution_count": 15,
   "metadata": {
    "collapsed": true
   },
   "outputs": [],
   "source": [
    "%autoreload 2"
   ]
  },
  {
   "cell_type": "code",
   "execution_count": 53,
   "metadata": {
    "collapsed": true
   },
   "outputs": [],
   "source": [
    "import splab"
   ]
  },
  {
   "cell_type": "code",
   "execution_count": 64,
   "metadata": {
    "collapsed": false
   },
   "outputs": [],
   "source": [
    "splab041=splab.load('SPLab-041.xml')\n",
    "r = splab041.groups[0].regions[0]"
   ]
  },
  {
   "cell_type": "code",
   "execution_count": 55,
   "metadata": {
    "collapsed": true
   },
   "outputs": [],
   "source": []
  },
  {
   "cell_type": "code",
   "execution_count": 28,
   "metadata": {
    "collapsed": false
   },
   "outputs": [
    {
     "data": {
      "text/plain": [
       "11"
      ]
     },
     "execution_count": 28,
     "metadata": {},
     "output_type": "execute_result"
    }
   ],
   "source": [
    "len(r.xmlregion)"
   ]
  },
  {
   "cell_type": "code",
   "execution_count": 31,
   "metadata": {
    "collapsed": false
   },
   "outputs": [
    {
     "data": {
      "text/plain": [
       "'Region1'"
      ]
     },
     "execution_count": 31,
     "metadata": {},
     "output_type": "execute_result"
    }
   ],
   "source": [
    "r.xmlregion[0].text"
   ]
  },
  {
   "cell_type": "code",
   "execution_count": 32,
   "metadata": {
    "collapsed": false
   },
   "outputs": [
    {
     "data": {
      "text/plain": [
       "<Element struct at 0x102352708>"
      ]
     },
     "execution_count": 32,
     "metadata": {},
     "output_type": "execute_result"
    }
   ],
   "source": [
    "r.xmlregion[1]"
   ]
  },
  {
   "cell_type": "code",
   "execution_count": 62,
   "metadata": {
    "collapsed": false
   },
   "outputs": [
    {
     "data": {
      "text/plain": [
       "18"
      ]
     },
     "execution_count": 62,
     "metadata": {},
     "output_type": "execute_result"
    }
   ],
   "source": [
    "len(r.xmlregion[1])"
   ]
  },
  {
   "cell_type": "code",
   "execution_count": 67,
   "metadata": {
    "collapsed": false
   },
   "outputs": [
    {
     "data": {
      "text/plain": [
       "({'analysis_method': 'UPS',\n",
       "  'analyzer_lens': 'WideAngleMode:40V',\n",
       "  'analyzer_slit': '1:0.5x20\\\\2:open',\n",
       "  'bias_voltage': -0.7,\n",
       "  'curves_per_scan': 20,\n",
       "  'detector_dataset': '20110824-WAM-05slit-03',\n",
       "  'detector_dataset_directory': 'C:\\\\Program Files\\\\SPECS\\\\SpecsLab2\\\\database\\\\datasetCalib1d',\n",
       "  'detector_voltage': 1350.0,\n",
       "  'dwell_time': 1.0,\n",
       "  'effective_workfunction': 4.414,\n",
       "  'excitation_energy': 5.092,\n",
       "  'kinetic_energy': 5.1,\n",
       "  'kinetic_energy_base': 0.0,\n",
       "  'num_scans': 1,\n",
       "  'pass_energy': 1.0,\n",
       "  'scan_delta': 0.01,\n",
       "  'scan_mode': 'FixedAnalyzerTransmission',\n",
       "  'values_per_curve': 211},\n",
       " 18)"
      ]
     },
     "execution_count": 67,
     "metadata": {},
     "output_type": "execute_result"
    }
   ],
   "source": [
    "r.param, len(r.param)"
   ]
  },
  {
   "cell_type": "code",
   "execution_count": 71,
   "metadata": {
    "collapsed": false
   },
   "outputs": [
    {
     "data": {
      "text/plain": [
       "('mcd_head', 'mcd_tail')"
      ]
     },
     "execution_count": 71,
     "metadata": {},
     "output_type": "execute_result"
    }
   ],
   "source": [
    "r.xmlregion[2].get('name'), r.xmlregion[3].get('name'), "
   ]
  },
  {
   "cell_type": "code",
   "execution_count": 74,
   "metadata": {
    "collapsed": false
   },
   "outputs": [
    {
     "data": {
      "text/plain": [
       "(<Element struct at 0x102354cc8>, 3)"
      ]
     },
     "execution_count": 74,
     "metadata": {},
     "output_type": "execute_result"
    }
   ],
   "source": [
    "r.xmlregion[4], len(r.xmlregion[4])"
   ]
  },
  {
   "cell_type": "code",
   "execution_count": 76,
   "metadata": {
    "collapsed": false
   },
   "outputs": [
    {
     "data": {
      "text/plain": [
       "'PHOIBOS HSA3500 CCD 100 R5[HWType 30:13] CCD'"
      ]
     },
     "execution_count": 76,
     "metadata": {},
     "output_type": "execute_result"
    }
   ],
   "source": [
    "r.xmlregion[4][0].text"
   ]
  },
  {
   "cell_type": "code",
   "execution_count": 79,
   "metadata": {
    "collapsed": false
   },
   "outputs": [
    {
     "data": {
      "text/plain": [
       "24"
      ]
     },
     "execution_count": 79,
     "metadata": {},
     "output_type": "execute_result"
    }
   ],
   "source": [
    "len(r.xmlregion[4][1])"
   ]
  },
  {
   "cell_type": "code",
   "execution_count": 81,
   "metadata": {
    "collapsed": false
   },
   "outputs": [
    {
     "data": {
      "text/plain": [
       "(<Element sequence at 0x102354bc8>, 0)"
      ]
     },
     "execution_count": 81,
     "metadata": {},
     "output_type": "execute_result"
    }
   ],
   "source": [
    "r.xmlregion[4][2], len(r.xmlregion[4][2] )"
   ]
  },
  {
   "cell_type": "code",
   "execution_count": 88,
   "metadata": {
    "collapsed": false
   },
   "outputs": [
    {
     "data": {
      "text/plain": [
       "'analyzer_info'"
      ]
     },
     "execution_count": 88,
     "metadata": {},
     "output_type": "execute_result"
    }
   ],
   "source": [
    "r.xmlregion[4].get('name')"
   ]
  },
  {
   "cell_type": "code",
   "execution_count": 99,
   "metadata": {
    "collapsed": true
   },
   "outputs": [],
   "source": [
    "an= r.xmlregion.find('.//struct[@type_name=\"AnalyzerInfo\"]')"
   ]
  },
  {
   "cell_type": "code",
   "execution_count": 103,
   "metadata": {
    "collapsed": false
   },
   "outputs": [
    {
     "data": {
      "text/plain": [
       "'PHOIBOS HSA3500 CCD 100 R5[HWType 30:13] CCD'"
      ]
     },
     "execution_count": 103,
     "metadata": {},
     "output_type": "execute_result"
    }
   ],
   "source": [
    "an[0].text"
   ]
  },
  {
   "cell_type": "markdown",
   "metadata": {},
   "source": [
    "## Now analyze counts section "
   ]
  },
  {
   "cell_type": "code",
   "execution_count": 104,
   "metadata": {
    "collapsed": true
   },
   "outputs": [],
   "source": [
    "detectors= r.xmlregion.find('.//sequence[@type_name=\"DetectorSeq\"]')"
   ]
  },
  {
   "cell_type": "code",
   "execution_count": 132,
   "metadata": {
    "collapsed": false
   },
   "outputs": [],
   "source": [
    "count = r.xmlregion.find('.//ulong[@type_name=\"Counts\"]')"
   ]
  },
  {
   "cell_type": "code",
   "execution_count": 159,
   "metadata": {
    "collapsed": false
   },
   "outputs": [],
   "source": [
    "c=np.array([int(tmp) for tmp in r.xmlregion.find('.//ulong[@type_name=\"Counts\"]').text.split()])"
   ]
  },
  {
   "cell_type": "code",
   "execution_count": 149,
   "metadata": {
    "collapsed": false
   },
   "outputs": [
    {
     "data": {
      "text/plain": [
       "[<matplotlib.lines.Line2D at 0x812dc3c18>]"
      ]
     },
     "execution_count": 149,
     "metadata": {},
     "output_type": "execute_result"
    },
    {
     "data": {
      "image/png": "[encoded data removed]",
      "text/plain": [
       "<matplotlib.figure.Figure at 0x812baa8d0>"
      ]
     },
     "metadata": {},
     "output_type": "display_data"
    }
   ],
   "source": [
    "test1 = c[::24]\n",
    "plt.plot(test1[:211+16])\n",
    "plt.plot(test1[211+16:211*2+16*2])\n",
    "plt.plot(test1[(211+16)*2:(211+16)*3])\n",
    "plt.plot(test1[(211+16)*3:(211+16)*4])\n",
    "plt.plot(test1[(211+16)*4:(211+16)*5])"
   ]
  },
  {
   "cell_type": "code",
   "execution_count": 170,
   "metadata": {
    "collapsed": false
   },
   "outputs": [
    {
     "data": {
      "text/plain": [
       "(array([161, 188, 221, 156, 183, 155, 194, 222, 153,  96, 116, 117, 107,\n",
       "        114, 119,  84,  83,  87,  52,  60,  55,  37,  43,  42,  21,  30,\n",
       "         24,  31,  26,  28,  35,  23,  23,  32,  31,  25,  26,  31,  26,\n",
       "         27,  28,  30,  28,  41,  82, 120, 168, 147, 194,  85,  77, 103,\n",
       "         90, 105,  77,  94,  65,  70,  55,  47,  83,  67,  57,  51,  68,\n",
       "         64,  37,  17,  27,  43,  29,  47,  69,  40,  31,  37,  16,  24,\n",
       "         14,  27,  65,  15,  33,  15,  18,  22,  17,  20,  26,  23,  31,\n",
       "         25,   9,  11,   6,   7,  23,  12,   5,  13,  18,  30,  24,   6,\n",
       "         16,  23,   9,  12,   9,   3,   5,   2,   4,  13,   9,  19,  20,\n",
       "          6,   8,  22,  13,   3,   8,  24,  14,   3,   4,  15,  10,  10,\n",
       "         11,   9,   4,   2,  20,  28,  26,  25,  25,  29,  15,  57,   3,\n",
       "         35,   9,  34,  18,  22,  28,  14,  18,  13,  34,  39,  11,  17,\n",
       "         11,  20,  12,  20,  18,  32,  32,  32,   8,  10,  16,  32,  22,\n",
       "         27,  18,  15,  13,  35,  19,  10,  37,  16,   9,  19,  19,  76,\n",
       "         40,   8,  25,  17,  25,  31,  35,  36,  17,  10,   6,  13,  12,\n",
       "          7,  16,  11,  12,  12,  20,  17,  15,   8,   7,  12,   9,  11,\n",
       "          9,  10,  10,  11,  12,  11,   8,  18,  15,  15,  16,  15,   9,\n",
       "         17,  13,  12,  10,  11,  11]), 227)"
      ]
     },
     "execution_count": 170,
     "metadata": {},
     "output_type": "execute_result"
    }
   ],
   "source": [
    "test1[:211+16], len(test1[:211+16])"
   ]
  },
  {
   "cell_type": "code",
   "execution_count": 183,
   "metadata": {
    "collapsed": false
   },
   "outputs": [
    {
     "data": {
      "text/plain": [
       "array([192, 234, 280, 187, 163, 196, 171, 187, 141, 151, 132, 139,  88,\n",
       "       109, 125, 110, 102,  77,  44,  47,  54,  57,  61,  40,  25,  36,\n",
       "        23,  23,  24,  31,  23,  28,  24,  26,  27,  26,  31,  29,  24,\n",
       "        26,  26,  30,  31,  84, 241, 391, 328, 240, 181, 135, 150,  89,\n",
       "       124,  91,  98,  59,  72,  69,  45,  59,  52,  50,  48,  68,  58,\n",
       "        49,  51,  37,  31,  61,  31,  39,  45,  36,  44,  28,  42,  24,\n",
       "        19,  24,  37,  40,  40,  28,  27,  51,  21,  25,  30,  30,  31,\n",
       "        40,  37,  27,  29,  24,  22,  44,  25,  32,  22,  31,  23,  30,\n",
       "        38,  32,  57,  34,  38,  31,  17,  21,  16,  42,  15,  31,  29,\n",
       "        15,  27,  56,  30,  23,  31,  36,  22,  38,  19,  26,  30,  23,\n",
       "        31,  29,  47,  25,  33,  24,  54,  38,  43,  20,  32,  48,  21,\n",
       "        26,  58,  32,  40,  22,  28,  21,  21,  31,  27,  21,  22,  34,\n",
       "        35,  38,  16,  20,  19,  15,  28,  40,  21,  16,  29,  13,  16,\n",
       "        29,  23,  24,  21,  38,  20,  13,  33,  30,  22,  32,  20,  51,\n",
       "        26,  17,  23,  18,  34,  21,  21,  23,  24,  18,  32,  22,  15,\n",
       "        24,  26,  16,  18,  16,  19,  21,  22,  19,  23,  20,  16,  16,\n",
       "        20,  17,  16,  18,  17,  17,  18,  19,  17,  20,  20,  20,  19,\n",
       "        20,  18,  21,  23,  20,  19])"
      ]
     },
     "execution_count": 183,
     "metadata": {},
     "output_type": "execute_result"
    }
   ],
   "source": [
    "test1[211+16:(211+16)*2]"
   ]
  },
  {
   "cell_type": "code",
   "execution_count": 184,
   "metadata": {
    "collapsed": false
   },
   "outputs": [],
   "source": [
    "d=c.reshape(20, 227, 24)\n",
    "e=d.swapaxes(1, 2)"
   ]
  },
  {
   "cell_type": "code",
   "execution_count": 191,
   "metadata": {
    "collapsed": false
   },
   "outputs": [
    {
     "data": {
      "text/plain": [
       "array([201, 207, 194, 156, 152, 140, 176, 153, 138, 135, 119, 142, 105,\n",
       "        73, 114,  93,  56,  58,  56,  70,  48,  32,  26,  28,  21,  33,\n",
       "        35,  31,  22,  25,  24,  23,  22,  22,  22,  24,  26,  31,  25,\n",
       "        29,  26,  32,  30,  59, 134, 142, 145, 153, 144,  92,  96,  90,\n",
       "        83, 121,  88,  71,  37,  57,  63,  40,  68,  58,  38,  55,  25,\n",
       "        40,  33,  49,  32,  51,  51,  51,  22,  35,  24,  37,  19,  21,\n",
       "        18,  51,  17,  18,  22,  44,  36,  20,  15,  17,  21,  27,  13,\n",
       "        27,  10,  14,  20,   8,  15,  17,  15,   9,  12,  27,  28,   9,\n",
       "         7,  16,   8,  14,   5,   9,   4,   3,   1,  17,  14,   2,  14,\n",
       "         0,   5,  13,  26,  15,  16,  14,   5,   0,   6,   4,   6,   2,\n",
       "         4,  16,  13,  11,   1,  14,  17,   6,  20,   1,   0,  22,   0,\n",
       "        18,  18,  14,  21,  22,  37,   8,  10,  33,  38,  14,  31,   4,\n",
       "        10,  18,  20,  19,   7,  19,  18,  21,  15,   8,  19,  26,  25,\n",
       "        22,  23,  12,  34,  37,  31,  11,  22,  15,  20,   9,  15,  68,\n",
       "        66,   7,  22,  25,   9,  21,  37,  48,  24,  20,   9,   6,   5,\n",
       "         9,   5,   6,   4,   8,   4,  13,   8,  10,   6,   7,  10,   9,\n",
       "         6,  10,   5,  18,   5,   9,   5,  13,  10,   6,   9,   8,  20,\n",
       "        11,   9,  10,   9,   9,   9])"
      ]
     },
     "execution_count": 191,
     "metadata": {},
     "output_type": "execute_result"
    }
   ],
   "source": [
    "e[0][1]"
   ]
  },
  {
   "cell_type": "code",
   "execution_count": 121,
   "metadata": {
    "collapsed": false
   },
   "outputs": [
    {
     "data": {
      "text/plain": [
       "array([[ -1.66023000e+01,  -8.47422000e-02,   1.00000000e+00],\n",
       "       [ -1.52091000e+01,  -7.70081000e-02,   1.00000000e+00],\n",
       "       [ -1.38159000e+01,  -6.99468000e-02,   1.00000000e+00],\n",
       "       [ -1.24227000e+01,  -6.28961000e-02,   1.00000000e+00],\n",
       "       [ -1.10295000e+01,  -5.66889000e-02,   1.00000000e+00],\n",
       "       [ -9.63630000e+00,  -4.97265000e-02,   1.00000000e+00],\n",
       "       [ -8.24310000e+00,  -4.29213000e-02,   1.00000000e+00],\n",
       "       [ -6.84990000e+00,  -3.58507000e-02,   1.00000000e+00],\n",
       "       [ -5.45670000e+00,  -2.86102000e-02,   1.00000000e+00],\n",
       "       [ -4.06350000e+00,  -2.20417000e-02,   1.00000000e+00],\n",
       "       [ -2.67030000e+00,  -1.47662000e-02,   1.00000000e+00],\n",
       "       [ -1.27710000e+00,  -8.20503000e-03,   1.00000000e+00],\n",
       "       [  1.16100000e-01,  -1.68055000e-03,   1.00000000e+00],\n",
       "       [  1.50930000e+00,   6.14424000e-03,   1.00000000e+00],\n",
       "       [  2.90250000e+00,   1.30663000e-02,   1.00000000e+00],\n",
       "       [  4.29570000e+00,   1.94439000e-02,   1.00000000e+00],\n",
       "       [  5.68890000e+00,   2.63788000e-02,   1.00000000e+00],\n",
       "       [  7.08210000e+00,   3.29499000e-02,   1.00000000e+00],\n",
       "       [  8.47530000e+00,   4.05154000e-02,   1.00000000e+00],\n",
       "       [  9.86850000e+00,   4.86007000e-02,   1.00000000e+00],\n",
       "       [  1.12617000e+01,   5.47919000e-02,   1.00000000e+00],\n",
       "       [  1.26549000e+01,   6.27039000e-02,   1.00000000e+00],\n",
       "       [  1.40481000e+01,   6.98935000e-02,   1.00000000e+00],\n",
       "       [  1.54413000e+01,   7.63826000e-02,   1.00000000e+00]])"
      ]
     },
     "execution_count": 121,
     "metadata": {},
     "output_type": "execute_result"
    }
   ],
   "source": [
    "tmp = []\n",
    "\n",
    "np.array([[float(elm2.text) for elm2 in elm if elm2.tag == 'double'] for elm in detectors])\n",
    "\n",
    "\n",
    "\n",
    "        \n",
    "        \n"
   ]
  },
  {
   "cell_type": "code",
   "execution_count": 47,
   "metadata": {
    "collapsed": false
   },
   "outputs": [
    {
     "name": "stdout",
     "output_type": "stream",
     "text": [
      "analysis_method\n",
      "UPS\n",
      "analyzer_lens\n",
      "WideAngleMode:40V\n",
      "detector_dataset\n",
      "20110824-WAM-05slit-03\n",
      "detector_dataset_directory\n",
      "C:\\Program Files\\SPECS\\SpecsLab2\\database\\datasetCalib1d\n",
      "analyzer_slit\n",
      "1:0.5x20\\2:open\n",
      "scan_mode\n",
      "FixedAnalyzerTransmission\n",
      "\n",
      "\t      \n",
      "num_scans\n",
      "1\n",
      "curves_per_scan\n",
      "20\n",
      "values_per_curve\n",
      "211\n",
      "dwell_time\n",
      "1\n",
      "scan_delta\n",
      "0.01\n",
      "excitation_energy\n",
      "5.092\n",
      "kinetic_energy\n",
      "5.1\n",
      "kinetic_energy_base\n",
      "0\n",
      "pass_energy\n",
      "1\n",
      "bias_voltage\n",
      "-0.7\n",
      "detector_voltage\n",
      "1350\n",
      "effective_workfunction\n",
      "4.414\n"
     ]
    }
   ],
   "source": [
    "parm = {}\n",
    "for i in r.xmlregion[1]:\n",
    "    print(i.get('name'))\n",
    "    if 'scan_mode' == i.get('name'):\n",
    "        parm[i.get('name')] = i[0].text\n",
    "        print(i[0].text)                \n",
    "    print(i.text)\n",
    "    if i.get('name') in  ['num_scans', 'curves_per_scan', 'values_per_curve']:\n",
    "        parm[i.get('name')] = int(i.text)\n",
    "    else:\n",
    "        parm[i.get('name')] = i.text"
   ]
  },
  {
   "cell_type": "code",
   "execution_count": 50,
   "metadata": {
    "collapsed": false
   },
   "outputs": [
    {
     "ename": "ValueError",
     "evalue": "could not convert string to float: 'WideAngleMode:40V'",
     "output_type": "error",
     "traceback": [
      "\u001b[0;31m---------------------------------------------------------------------------\u001b[0m",
      "\u001b[0;31mValueError\u001b[0m                                Traceback (most recent call last)",
      "\u001b[0;32m<ipython-input-50-be62512f3145>\u001b[0m in \u001b[0;36m<module>\u001b[0;34m()\u001b[0m\n\u001b[0;32m----> 1\u001b[0;31m \u001b[0mfloat\u001b[0m\u001b[0;34m(\u001b[0m\u001b[0;34m'WideAngleMode:40V'\u001b[0m\u001b[0;34m)\u001b[0m\u001b[0;34m\u001b[0m\u001b[0m\n\u001b[0m",
      "\u001b[0;31mValueError\u001b[0m: could not convert string to float: 'WideAngleMode:40V'"
     ]
    }
   ],
   "source": [
    "float('WideAngleMode:40V')"
   ]
  },
  {
   "cell_type": "code",
   "execution_count": null,
   "metadata": {
    "collapsed": true
   },
   "outputs": [],
   "source": []
  },
  {
   "cell_type": "code",
   "execution_count": null,
   "metadata": {
    "collapsed": false
   },
   "outputs": [],
   "source": [
    "for i in splab041.getroot().keys():\n",
    "    print(i)"
   ]
  },
  {
   "cell_type": "code",
   "execution_count": 12,
   "metadata": {
    "collapsed": false
   },
   "outputs": [],
   "source": [
    "splab041.iterfind?"
   ]
  },
  {
   "cell_type": "code",
   "execution_count": null,
   "metadata": {
    "collapsed": false
   },
   "outputs": [],
   "source": [
    "for e in splab041.getroot():\n",
    "    print(e.tag)"
   ]
  },
  {
   "cell_type": "code",
   "execution_count": null,
   "metadata": {
    "collapsed": false
   },
   "outputs": [],
   "source": []
  },
  {
   "cell_type": "code",
   "execution_count": null,
   "metadata": {
    "collapsed": false
   },
   "outputs": [],
   "source": [
    "a=splab041.getroot()"
   ]
  },
  {
   "cell_type": "code",
   "execution_count": null,
   "metadata": {
    "collapsed": false
   },
   "outputs": [],
   "source": [
    "for i in a.getchildren():\n",
    "    print(i.tag)"
   ]
  },
  {
   "cell_type": "code",
   "execution_count": null,
   "metadata": {
    "collapsed": false
   },
   "outputs": [],
   "source": [
    "splab041.find('./any').attrib"
   ]
  },
  {
   "cell_type": "code",
   "execution_count": null,
   "metadata": {
    "collapsed": false
   },
   "outputs": [],
   "source": [
    "any=splab041.getroot()"
   ]
  },
  {
   "cell_type": "code",
   "execution_count": null,
   "metadata": {
    "collapsed": false
   },
   "outputs": [],
   "source": [
    "for c in any:\n",
    "    print(c.tag)"
   ]
  },
  {
   "cell_type": "code",
   "execution_count": null,
   "metadata": {
    "collapsed": false
   },
   "outputs": [],
   "source": [
    "etree.tostring(splab041)"
   ]
  },
  {
   "cell_type": "code",
   "execution_count": null,
   "metadata": {
    "collapsed": false
   },
   "outputs": [],
   "source": [
    "dir(splab041)"
   ]
  },
  {
   "cell_type": "code",
   "execution_count": null,
   "metadata": {
    "collapsed": false
   },
   "outputs": [],
   "source": [
    "type (splab041)"
   ]
  },
  {
   "cell_type": "code",
   "execution_count": null,
   "metadata": {
    "collapsed": false
   },
   "outputs": [],
   "source": [
    "dir(splab041.docinfo)"
   ]
  },
  {
   "cell_type": "code",
   "execution_count": null,
   "metadata": {
    "collapsed": false
   },
   "outputs": [],
   "source": [
    "splab041.docinfo.doctype"
   ]
  },
  {
   "cell_type": "code",
   "execution_count": null,
   "metadata": {
    "collapsed": false
   },
   "outputs": [],
   "source": [
    "splab041.docinfo.encoding"
   ]
  },
  {
   "cell_type": "code",
   "execution_count": null,
   "metadata": {
    "collapsed": false
   },
   "outputs": [],
   "source": [
    "splab041.docinfo.root_name"
   ]
  },
  {
   "cell_type": "code",
   "execution_count": null,
   "metadata": {
    "collapsed": false
   },
   "outputs": [],
   "source": [
    "splab041.docinfo.standalone"
   ]
  },
  {
   "cell_type": "code",
   "execution_count": null,
   "metadata": {
    "collapsed": true
   },
   "outputs": [],
   "source": [
    "splab041.docinfo.system_url?"
   ]
  },
  {
   "cell_type": "code",
   "execution_count": null,
   "metadata": {
    "collapsed": false
   },
   "outputs": [],
   "source": [
    "splab041.docinfo.xml_version"
   ]
  },
  {
   "cell_type": "code",
   "execution_count": null,
   "metadata": {
    "collapsed": true
   },
   "outputs": [],
   "source": []
  }
 ],
 "metadata": {
  "kernelspec": {
   "display_name": "Python 3",
   "language": "python",
   "name": "python3"
  },
  "language_info": {
   "codemirror_mode": {
    "name": "ipython",
    "version": 3
   },
   "file_extension": ".py",
   "mimetype": "text/x-python",
   "name": "python",
   "nbconvert_exporter": "python",
   "pygments_lexer": "ipython3",
   "version": "3.5.2"
  }
 },
 "nbformat": 4,
 "nbformat_minor": 2
}
