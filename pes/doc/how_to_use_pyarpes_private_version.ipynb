{
 "cells": [
  {
   "attachments": {},
   "cell_type": "markdown",
   "id": "7edc0b7a-2a77-4330-9613-93d9638cb066",
   "metadata": {
    "tags": []
   },
   "source": [
    "# How to use PyARPES (private version)\n",
    "\n",
    "## Introduction\n",
    "\n",
    "There is a python library called [pyarpes](https://arpes.readthedocs.io/) for analyzing ARPES data.\n",
    "It seems to be quite incomplete and has some buggy functions. However, it is still usable (or so I think).\n",
    "I was wondering what is the difference between this and Igor's analysis?  I will end up using Igor, but it might be useful when handling a large amount of data.\n",
    "Basically, it is designed to handle files that extend xarray, and xarray itself seems to be stable, so its reliability is relatively high.\n",
    "\n",
    "Unfortunatelyy, this package is no longer maintained very well, and in many ways it is not a modern Pythonic description. I decided to manage it myself. Let's aim to make it a robust package.\n",
    "\n",
    "[pyarpes](https://arpes.readthedocs.io/)といpython ライブラリがある。\n",
    "かなり不完全なところがあって、バギーな関数もある様子。ただ、一応なりとも使える（かな）。\n",
    "もっともIgorで行う解析と何が違うのか？という疑問はあって、結局Igorでやることになるとは思うのだけど、大量データを扱うことを考えたときに便利かもしれない。\n",
    "というか、便利なのが分かったらIgor procedureを書かないといけないので、そのプロトタイプと考えると良いのかもしれない。\n",
    "基本的に xarray を拡張したファイルを取り扱う設計で、 xarray そのものは安定しているようなので、信頼性は比較的高い。\n",
    "\n",
    "もうかなりメンテされていないし、現代的なPythonの記述とはなっていない点も多い。自分で管理することにした。ロバストなパッケージにすることを目指そう。"
   ]
  },
  {
   "attachments": {},
   "cell_type": "markdown",
   "id": "9c5f7fe2",
   "metadata": {},
   "source": [
    "## autoreload related\n",
    "\n",
    "Eventually, following three lines are not essential.\n",
    "最終的にはここは無くてもいい。"
   ]
  },
  {
   "cell_type": "code",
   "execution_count": null,
   "id": "8428ad9c-1054-4959-b629-308d9b93d7aa",
   "metadata": {
    "tags": []
   },
   "outputs": [],
   "source": [
    "%load_ext autoreload\n",
    "%autoreload 2\n",
    "%matplotlib inline"
   ]
  },
  {
   "attachments": {},
   "cell_type": "markdown",
   "id": "ba1f8265",
   "metadata": {},
   "source": [
    "## import \n",
    "\n",
    "Let's do the following:\n",
    "\n",
    "* Well, we need numpy in any case.\n",
    "* It's better to set matplotlib explicitly to easily tune the graph.\n",
    "* For coloring the ARPES data by logarithmic scale, we introduce the LogNorm.\n",
    "* arpes.config is (probably) required absolutely\n",
    "* ~~pes.SPD_main.py is written by me, that why the the directory is not arpes~~ Now, SPD_main.py is moved to my pyarpes repository. \n",
    "* qt_tool is used to display the data by using PyQt.\n",
    "* ktool is the same as above but for momentum analysis?\n",
    "* convert_to_kspace is used to convert from angle to momentum. \n",
    "* hvplot.xarray may not be needed.  If you want to use Bokeh.\n",
    "\n",
    "Note that you need enough libraries installed to load the above libraries and not get an error."
   ]
  },
  {
   "attachments": {},
   "cell_type": "markdown",
   "id": "5492b75e-ead8-4399-88ec-a910c8ca18c9",
   "metadata": {},
   "source": [
    "Currently, PyQt5 is required. (In the near future, I'll rewrite this.)\n",
    "\n",
    "* (In Mac, installation by pip will fail. You need install by brew and after that do the following\n",
    "* After ```brew install pyqt5``` \n",
    "\n",
    "```bash\n",
    "ln -s /opt/homebrew/Cellar/pyqt@5/${pyqt_version}/lib/python${python_version}/site-packages/*  $(dirname $(which python))/../lib/python${python_version}/site-packages/\n",
    "```\n",
    "The above operation may be required."
   ]
  },
  {
   "cell_type": "code",
   "execution_count": null,
   "id": "10e87e32-dd9b-4fed-885d-3a6b63dee972",
   "metadata": {
    "tags": []
   },
   "outputs": [],
   "source": [
    "import arpes.config\n",
    "import hvplot.xarray\n",
    "import matplotlib.pyplot as plt\n",
    "import numpy as np\n",
    "from arpes.io import load_data\n",
    "from arpes.plotting.qt_ktool import ktool\n",
    "from arpes.plotting.qt_tool import qt_tool\n",
    "from arpes.utilities.conversion import convert_to_kspace\n",
    "from matplotlib.colors import LogNorm"
   ]
  },
  {
   "attachments": {},
   "cell_type": "markdown",
   "id": "1ca8579b",
   "metadata": {},
   "source": [
    "## データのロード\n",
    "\n",
    "自分で測定したデータを読み込むために、\n",
    "* from arpes.io  import load_data \n",
    "\n",
    "が必須。\n",
    "\n",
    "自分のデータの内容に不安を覚えたら、\n",
    "* from arpes.io import example_data\n",
    "\n",
    "を使い、\n",
    "\n",
    "```python:\n",
    "ex = example_data.cut\n",
    "```\n",
    "\n",
    "として、　ex の中身を見て比べてみると何かヒントがあるかもしれない。\n"
   ]
  },
  {
   "cell_type": "code",
   "execution_count": null,
   "id": "a619da74-641e-4e9c-ac9d-19bcaa3afe5f",
   "metadata": {},
   "outputs": [],
   "source": [
    "from arpes.io import example_data"
   ]
  },
  {
   "attachments": {},
   "cell_type": "markdown",
   "id": "3686d389",
   "metadata": {},
   "source": [
    "load_data は以上のような関数で、実際に使うだけなら、そんなにむずかしくない。単純に"
   ]
  },
  {
   "cell_type": "code",
   "execution_count": null,
   "id": "26b25fe6-dd76-43e1-b1e6-1c8ca33f0805",
   "metadata": {},
   "outputs": [],
   "source": [
    "f = load_data(\n",
    "    \"/Users/arafune/src/arpes/arpes/example_data/example_itx_data.itx\",\n",
    "    location=\"SPD_phoibos\",\n",
    "    trace=True,\n",
    ")\n",
    "# f2 = load_data(\"/Users/arafune/src/analysis_tool/test/pes/GrIr.sp2\", location=\"SPD_phoibos\")"
   ]
  },
  {
   "attachments": {},
   "cell_type": "markdown",
   "id": "bfba6202",
   "metadata": {},
   "source": [
    "でよい。ただし、\n",
    "\n",
    "* x, y, z 軸の値や 角度βを記録に含めたい。\n",
    "\n",
    "など、itx ファイルや、 sp2ファイルに記載されない情報も 付加させたいときは。"
   ]
  },
  {
   "attachments": {},
   "cell_type": "markdown",
   "id": "c2e0a43f",
   "metadata": {},
   "source": [
    "```python\n",
    "f=load_data(\"/Users/arafune/src/analysis_tool/test/pes/PES_16_Spectrum_3.itx\",location=\"SPD_phoibos\",\n",
    "             x=1,\n",
    "             sample_name=\"Cu(111)\")\n",
    "```"
   ]
  },
  {
   "attachments": {},
   "cell_type": "markdown",
   "id": "585353b0",
   "metadata": {},
   "source": [
    "などと、することができる。\n",
    "\n",
    "''x'' や ''sample_name''　などの変数名は予め定義されているのでそれを使うように推奨される。（そうでないと、ただのコメントにしかならない）\n",
    "どのような変数名が公式なものかは、どこにもリストらしきものはないので、実際に読み込んだ後で、チェックする必要があるかもしれない。\n",
    "\n",
    "* sample_name\n",
    "* sample_workfunction \n",
    "\n",
    "がちょっと知らないと使えない変数名。 (\"sample\" ではないし、 \"workfunction\"ではない。（アナライザーの仕事関数として予約されている） )\n",
    "このマニュアルでは（少なくともこのセクションでは）付加情報は加えていない。\n",
    "\n",
    "``xarray_extensions.py`` を読むしかない。"
   ]
  },
  {
   "cell_type": "code",
   "execution_count": null,
   "id": "49acc161-b1f6-4336-b6b0-b4f03d0519f7",
   "metadata": {},
   "outputs": [],
   "source": [
    "f.S.polarization"
   ]
  },
  {
   "cell_type": "markdown",
   "id": "29ed3684-82b4-48ab-8b74-e446e0a60fcf",
   "metadata": {},
   "source": [
    "f.attrs\n",
    "```python\n",
    "{'spectrum_type': 'cut',\n",
    " 'Created Date (UTC)': '2022-Feb-28 05:03:33.001919',\n",
    " 'Igor Text File Exporter Version': 0.3,\n",
    " 'Created by': 'SpecsLab Prodigy, Version 4.86.2-r103043',\n",
    " 'Scan Mode': 'Fixed Analyzer Transmission',\n",
    " 'User Comment': '',\n",
    " 'Analysis Mode': 'UPS',\n",
    " 'Lens Voltage': '40V',\n",
    " 'Analyzer Slits': '1:0.5x20\\\\B:open',\n",
    " 'Number of Scans': 30,\n",
    " 'Number of Samples': 501,\n",
    " 'Scan Step': 0.002,\n",
    " 'DwellTime': 0.096,\n",
    " 'Kinetic Energy': 9,\n",
    " 'Binding Energy': -4.008,\n",
    " 'Bias Voltage': -1.5,\n",
    " 'angle_unit': 'rad (theta_y)',\n",
    " 'enegy_unit': 'eV (Kinetic Energy)',\n",
    " 'count_unit': 'cps (Intensity)',\n",
    " 'trace': Trace(silent=False, start_time=1688363879143870000),\n",
    " 'hv': 4.992,\n",
    " 'workfunction': 4.401,\n",
    " 'lens_mode': 'WideAngleMode',\n",
    " 'pass_energy': 5,\n",
    " 'mcp_voltage': 1500,\n",
    " 'id': 2,\n",
    " 'x': nan,\n",
    " 'y': nan,\n",
    " 'z': nan,\n",
    " 'theta': 0,\n",
    " 'beta': 0,\n",
    " 'chi': 0,\n",
    " 'alpha': 1.5707963267948966,\n",
    " 'energy_notation': 'Kinetic',\n",
    " 'analyzer': 'Specs PHOIBOS 100',\n",
    " 'analyzer_name': 'Specs PHOIBOS 100',\n",
    " 'parallel_deflectors': False,\n",
    " 'perpendicular_deflectors': False,\n",
    " 'analyzer_radius': 100,\n",
    " 'analyzer_type': 'hemispherical',\n",
    " 'psi': 0,\n",
    " 'chi_offset': 0}\n",
    " ```"
   ]
  },
  {
   "cell_type": "markdown",
   "id": "ad283ea8-3d90-4036-a9cf-54913bd54f31",
   "metadata": {},
   "source": [
    "f.S.spectrometer_settings\n",
    "```python\n",
    "{'lens_mode': 'WideAngleMode', 'pass_energy': 5}\n",
    "```"
   ]
  },
  {
   "cell_type": "markdown",
   "id": "9409048d-e3c0-447d-8034-63282ab6c7a3",
   "metadata": {},
   "source": [
    "f.S.experimental_conditions\n",
    "\n",
    "```python\n",
    "{'hv': 4.992, 'polarization': None, 'temp': None}\n",
    "```"
   ]
  },
  {
   "cell_type": "markdown",
   "id": "dfa423f2-1302-4057-85bf-2c572439a72e",
   "metadata": {},
   "source": [
    "f.S.scan_info\n",
    "```python\n",
    "{'time': None,\n",
    " 'date': None,\n",
    " 'type': None,\n",
    " 'spectrum_type': 'cut',\n",
    " 'experimenter': None,\n",
    " 'sample': None}\n",
    "```"
   ]
  },
  {
   "cell_type": "markdown",
   "id": "2aa7f1da-cc25-46fc-99c6-a2a3f3c7ec98",
   "metadata": {},
   "source": [
    "f.S.sample_angles\n",
    "```python\n",
    "(0,\n",
    " 0,\n",
    " 0,\n",
    " <xarray.DataArray 'phi' (phi: 600)>\n",
    " array([-0.217803, -0.217076, -0.216349, ...,  0.216349,  0.217076,  0.217803])\n",
    " Coordinates:\n",
    "   * phi      (phi) float64 -0.2178 -0.2171 -0.2163 ... 0.2163 0.2171 0.2178\n",
    "     x        float64 nan\n",
    "     y        float64 nan\n",
    "     z        float64 nan\n",
    "     theta    int64 0\n",
    "     beta     int64 0\n",
    "     chi      int64 0\n",
    "     hv       float64 4.992\n",
    "     alpha    float64 1.571\n",
    "     psi      int64 0,\n",
    " 0,\n",
    " 1.5707963267948966)\n",
    "```\n"
   ]
  },
  {
   "cell_type": "markdown",
   "id": "b7ec867a-bf04-45d2-9827-b1a5e6b5cf01",
   "metadata": {},
   "source": [
    "f.S.sample_pos\n",
    "```python\n",
    "(nan, nan, nan)\n",
    "```\n",
    "x, y, z"
   ]
  },
  {
   "cell_type": "markdown",
   "id": "3d40569e-a43a-4b06-b1ba-d8565abb2a1c",
   "metadata": {},
   "source": [
    "f.S.experiment_info\n",
    "```python\n",
    "{'temperature': None,\n",
    " 'temperature_cryotip': None,\n",
    " 'pressure': None,\n",
    " 'polarization': (None, None),\n",
    " 'photon_flux': None,\n",
    " 'photocurrent': None,\n",
    " 'probe': None,\n",
    " 'probe_detail': None,\n",
    " 'analyzer': 'Specs PHOIBOS 100',\n",
    " 'analyzer_detail': {'name': 'Specs PHOIBOS 100',\n",
    "  'parallel_deflectors': False,\n",
    "  'perpendicular_deflectors': False,\n",
    "  'type': 'hemispherical',\n",
    "  'radius': 100}}\n",
    "```\n"
   ]
  },
  {
   "cell_type": "markdown",
   "id": "594819fd-9645-41a4-b436-8f829b5c5055",
   "metadata": {},
   "source": [
    "f.S.laser_info\n",
    "```python\n",
    "{'probe_wavelength': None,\n",
    " 'probe_energy': 4.992,\n",
    " 'probe_fluence': None,\n",
    " 'probe_pulse_energy': None,\n",
    " 'probe_spot_size': (None, None),\n",
    " 'probe_profile': None,\n",
    " 'probe_linewidth': None,\n",
    " 'probe_temporal_width': None,\n",
    " 'probe_polarization': (None, None),\n",
    " 'pump_wavelength': None,\n",
    " 'pump_energy': None,\n",
    " 'pump_fluence': None,\n",
    " 'pump_pulse_energy': None,\n",
    " 'pump_spot_size': (None, None),\n",
    " 'pump_profile': None,\n",
    " 'pump_linewidth': None,\n",
    " 'pump_temporal_width': None,\n",
    " 'pump_polarization': (None, None),\n",
    " 'repetition_rate': None}\n",
    "```"
   ]
  },
  {
   "cell_type": "markdown",
   "id": "27dfc13e-0970-4441-b25b-cb5e36603ba0",
   "metadata": {},
   "source": [
    "f.S.probe_info\n",
    "```python\n",
    "{'probe_wavelength': None,\n",
    " 'probe_energy': 4.992,\n",
    " 'probe_fluence': None,\n",
    " 'probe_pulse_energy': None,\n",
    " 'probe_spot_size': (None, None),\n",
    " 'probe_profile': None,\n",
    " 'probe_linewidth': None,\n",
    " 'probe_temporal_width': None,\n",
    " 'probe_polarization': (None, None)}\n",
    "```"
   ]
  },
  {
   "cell_type": "markdown",
   "id": "c630965f-6c96-4938-8bbd-0fe0e5dda668",
   "metadata": {
    "scrolled": true
   },
   "source": [
    "f.S.pump_info\n",
    "```python\n",
    "{'pump_wavelength': None,\n",
    " 'pump_energy': None,\n",
    " 'pump_fluence': None,\n",
    " 'pump_pulse_energy': None,\n",
    " 'pump_spot_size': (None, None),\n",
    " 'pump_profile': None,\n",
    " 'pump_linewidth': None,\n",
    " 'pump_temporal_width': None,\n",
    " 'pump_polarization': (None, None)}\n",
    "```"
   ]
  },
  {
   "cell_type": "markdown",
   "id": "565ce38c-dad7-4d41-8e2d-3bf521721204",
   "metadata": {},
   "source": [
    "f.S.analyzer_info\n",
    "```python\n",
    "{'lens_mode': 'WideAngleMode',\n",
    " 'lens_mode_name': None,\n",
    " 'acquisition_mode': None,\n",
    " 'pass_energy': 5,\n",
    " 'slit_shape': None,\n",
    " 'slit_width': None,\n",
    " 'slit_number': None,\n",
    " 'lens_table': None,\n",
    " 'analyzer_type': 'hemispherical',\n",
    " 'mcp_voltage': 1500,\n",
    " 'work_function': 4.401}\n",
    "```"
   ]
  },
  {
   "attachments": {},
   "cell_type": "markdown",
   "id": "ca54f323",
   "metadata": {},
   "source": [
    "## Plot\n",
    "\n",
    "機能としてはシンプル。この辺は、 pyarpes の機能ではなく、 xarray の機能と考えるのが無難。\n",
    "上述のごとくxarrayは比較的良く整備されているように見える。\n",
    "ま、ただのデータ構造なので、メンテがそれほど難しくないのかもしれない。\n",
    "\n",
    "### matplotlib base: S.plot()"
   ]
  },
  {
   "cell_type": "code",
   "execution_count": null,
   "id": "9182b47a",
   "metadata": {},
   "outputs": [],
   "source": [
    "f.S.plot()"
   ]
  },
  {
   "attachments": {},
   "cell_type": "markdown",
   "id": "342aa2ee-fdb2-4146-8b3d-77bc39fb0cb7",
   "metadata": {},
   "source": [
    "以下ようにすると、matplotlib.pyplot を直接使う事ができるように見える。"
   ]
  },
  {
   "cell_type": "code",
   "execution_count": null,
   "id": "c861a4e9",
   "metadata": {},
   "outputs": [],
   "source": [
    "fig = plt.figure(figsize=(4, 3))\n",
    "ax = fig.add_subplot(111)\n",
    "f.S.spectrum.T.plot(ax=ax)"
   ]
  },
  {
   "attachments": {},
   "cell_type": "markdown",
   "id": "ab14d8ee-2ecb-468c-9cb4-7d7cf53e6ee5",
   "metadata": {},
   "source": [
    "しかし、xarray の plot method は matplotlib の thin wrapperなだけなので、出力フォーマットを変えるのであれば、以下のようにする方がよりよい。"
   ]
  },
  {
   "cell_type": "code",
   "execution_count": null,
   "id": "23137e15",
   "metadata": {},
   "outputs": [],
   "source": [
    "f.S.spectrum.T.plot(aspect=0.7, size=6, cmap=plt.cm.plasma)\n",
    "plt.ylabel(\"Energy relative to E_F ( eV )\")\n",
    "plt.xlabel(\"Emission Angle ( rad )\")\n",
    "plt.title(\"Xe/Au(111) monochromatic 2PPE\")\n",
    "plt.show()"
   ]
  },
  {
   "cell_type": "code",
   "execution_count": null,
   "id": "26f69739",
   "metadata": {},
   "outputs": [],
   "source": [
    "# Logarithmic scale\n",
    "f.S.spectrum.T.plot(aspect=0.7, size=4, cmap=plt.cm.jet, norm=LogNorm(vmin=1, vmax=100))\n",
    "plt.ylabel(\"Energy relative to E_F ( eV )\")\n",
    "plt.xlabel(\"Emission Angle ( rad )\")\n",
    "plt.title(\"Xe/Au(111) monochromatic 2PPE\")\n",
    "plt.show()"
   ]
  },
  {
   "cell_type": "markdown",
   "id": "efb336e8-0d6b-436b-9e02-53c72986d931",
   "metadata": {},
   "source": [
    "### Matplotlib base: stack-trace"
   ]
  },
  {
   "cell_type": "code",
   "execution_count": null,
   "id": "7e12b8a0-14e3-4f4f-aca0-0f697f091223",
   "metadata": {},
   "outputs": [],
   "source": [
    "from arpes.plotting import stack_plot"
   ]
  },
  {
   "cell_type": "code",
   "execution_count": null,
   "id": "9d126d1a-9083-461f-a034-2579fdf8121d",
   "metadata": {},
   "outputs": [],
   "source": [
    "int(np.log10(np.abs(-0.196)))+1\n",
    "np.round(0.196,1)"
   ]
  },
  {
   "cell_type": "code",
   "execution_count": null,
   "id": "ea13d9cf-ca5f-406f-b14e-445d3782fd28",
   "metadata": {},
   "outputs": [],
   "source": [
    "stack_plot.flat_stack_plot(f.S.spectrum, loc=\"upper left\", color=\"Blues\")"
   ]
  },
  {
   "cell_type": "markdown",
   "id": "1d37a8f6-0efb-4bc4-8dfc-0cd00fb4a22f",
   "metadata": {},
   "source": [
    "I have largely revised stack_dispersion_plot function.\n",
    "\n",
    "The examples are shown below:"
   ]
  },
  {
   "cell_type": "code",
   "execution_count": null,
   "id": "5966f8e9-ce22-4786-9370-f36ac84d709b",
   "metadata": {},
   "outputs": [],
   "source": []
  },
  {
   "cell_type": "code",
   "execution_count": null,
   "id": "3bbab84b-1397-4176-9ccc-ca4d504df991",
   "metadata": {},
   "outputs": [],
   "source": [
    "fig1, ax1 = stack_plot.stack_dispersion_plot(\n",
    "    f.S.spectrum,\n",
    "    max_stacks=20,\n",
    "    scale_factor=.3,\n",
    "    title=\"2PPE Xe/Au(111)\",\n",
    "    linewidth=0.3,\n",
    "    color=\"plasma\",\n",
    "    shift=0.00,\n",
    "    mode=\"hide_line\",\n",
    "    label=\"label test\",\n",
    "    figsize=(7, 5),\n",
    ")"
   ]
  },
  {
   "cell_type": "code",
   "execution_count": null,
   "id": "9c954e03-cc46-4c17-a450-0efc6fa7b491",
   "metadata": {},
   "outputs": [],
   "source": []
  },
  {
   "cell_type": "code",
   "execution_count": null,
   "id": "f2418939-8881-4568-b043-b7f8300180ce",
   "metadata": {},
   "outputs": [],
   "source": [
    "fig1, ax1 = stack_plot.stack_dispersion_plot(\n",
    "    f.S.spectrum,\n",
    "    max_stacks=10,\n",
    "    scale_factor=.1,\n",
    "    title=\"2PPE Xe/Au(111)\",\n",
    "    linewidth=0.5,\n",
    "    color=\"plasma\",\n",
    "    shift=0.00,\n",
    "    label=\"label test\",\n",
    "    mode=\"fill_between\",\n",
    "    figsize=(7, 5),\n",
    "    offset_correction=\"zero\",\n",
    ")"
   ]
  },
  {
   "cell_type": "code",
   "execution_count": null,
   "id": "1fa911a9-c6a0-4fab-93e6-87a24e8429ca",
   "metadata": {},
   "outputs": [],
   "source": [
    "fig1, ax1 = stack_plot.stack_dispersion_plot(\n",
    "    f.S.spectrum,\n",
    "    max_stacks=130,\n",
    "    title=\"2PPE Xe/Au(111)\",\n",
    "    linewidth=0.5,\n",
    "    color=\"viridis\",\n",
    "    shift=0.00,\n",
    "    label=\"label test\",\n",
    "    mode=\"hide_line\",\n",
    "    figsize=(7, 4),\n",
    ")"
   ]
  },
  {
   "cell_type": "code",
   "execution_count": null,
   "id": "a8fb741f-c8e8-4c49-a32c-5c9cf0076737",
   "metadata": {},
   "outputs": [],
   "source": [
    "fig1, ax1 = stack_plot.stack_dispersion_plot(\n",
    "    f.S.spectrum,\n",
    "    max_stacks=130,\n",
    "    title=\"2PPE Xe/Au(111)\",\n",
    "    linewidth=0.5,\n",
    "    color=\"viridis\",\n",
    "    shift=0.00,\n",
    "    label=\"label test\",\n",
    "    mode=\"hide_line\",\n",
    "    figsize=(7, 4),\n",
    ")"
   ]
  },
  {
   "attachments": {},
   "cell_type": "markdown",
   "id": "c97fa442",
   "metadata": {},
   "source": [
    "#### Bokeh base \n",
    "\n",
    "Bokeh を使って、インタラクティブな可視化をすることもできる。直接Bokeh を使っても良いはずだろうとは思うけど、ここではhvplot を使ってみる。\n",
    "~~ただし、hvplot の出力はvscode で見ることができない様なので注意。~~ "
   ]
  },
  {
   "cell_type": "code",
   "execution_count": null,
   "id": "ef51643f-a9b0-4b79-a3a4-88230108c4f8",
   "metadata": {},
   "outputs": [],
   "source": [
    "# f.hvplot.image(colorbar=True)"
   ]
  },
  {
   "cell_type": "code",
   "execution_count": null,
   "id": "8628f05b-3d7f-4446-8afa-2426bf44fcb5",
   "metadata": {},
   "outputs": [],
   "source": [
    "# f.S.spectrum.T.hvplot(invert=True, frame_height=400, frame_width=200)"
   ]
  },
  {
   "attachments": {},
   "cell_type": "markdown",
   "id": "c4b7a00c",
   "metadata": {},
   "source": [
    "### QT base\n",
    "(2023/06/09　動くようにできた)"
   ]
  },
  {
   "cell_type": "code",
   "execution_count": null,
   "id": "49d9046b",
   "metadata": {},
   "outputs": [],
   "source": [
    "# qt_tool(f)"
   ]
  },
  {
   "cell_type": "code",
   "execution_count": null,
   "id": "8008289e",
   "metadata": {},
   "outputs": [],
   "source": [
    "# ktool(f)"
   ]
  },
  {
   "cell_type": "code",
   "execution_count": null,
   "id": "243dd832-9504-43be-9a25-0c72afabf7ae",
   "metadata": {},
   "outputs": [],
   "source": [
    "# f.S.show_band_tool() 今のところこれが動かない"
   ]
  },
  {
   "attachments": {},
   "cell_type": "markdown",
   "id": "17c76824",
   "metadata": {},
   "source": [
    "## k-space 変換"
   ]
  },
  {
   "attachments": {},
   "cell_type": "markdown",
   "id": "1786af3b-c8d2-430a-a56a-1fb021ba69fe",
   "metadata": {},
   "source": [
    "`convert_to_kspace` というそのものズバリの関数がある。以下の例では、 `kp` を指定してあるが、もし指定しないと適切な範囲を自動的に決めてくれる。~~ただ、エネルギー軸をどうするかはこれから検証する必要がある。~~ いまでは、データがKinetic Energy (Final State Energy)としてエネルギー軸をもっているのか、Binding Energyとしてエネルギー軸を持っているのかを記録しておくようにして、それに合わせて自動的にかつ適切に θ-k するようにしてある。"
   ]
  },
  {
   "cell_type": "code",
   "execution_count": null,
   "id": "5310058f",
   "metadata": {},
   "outputs": [],
   "source": [
    "convert_to_kspace(f.spectrum, kp=np.linspace(-0.25, 0.25, 100)).plot()\n",
    "plt.ylabel(\"Energy relative to E_F ( eV )\")\n",
    "plt.xlabel(\"$k_{//}$\")"
   ]
  },
  {
   "attachments": {},
   "cell_type": "markdown",
   "id": "f2205bd6-d2fa-462a-b30a-10ad4b866d69",
   "metadata": {},
   "source": []
  },
  {
   "attachments": {},
   "cell_type": "markdown",
   "id": "225eea39-eabf-4830-ab0b-eef9121159d1",
   "metadata": {},
   "source": []
  },
  {
   "attachments": {},
   "cell_type": "markdown",
   "id": "5fce113d-d177-43cf-a351-f4bf6a8ea387",
   "metadata": {},
   "source": [
    "## まだよく分かってないこと。\n",
    "\n",
    "* Fermi level correction から アナライザーの misalignment に由来するズレを解消できるか？\n",
    "* attrs.offset や beta angle の設定は自動的に考慮されてしまうのか？\n",
    "\n",
    "いずれにしても、これは個々のケースバイケースの話なので、今回はふれない（ MoTe2 ARPES をこのパッケージで解析すると自動的に上の二つの問題には直面することになる・・・）"
   ]
  }
 ],
 "metadata": {
  "interpreter": {
   "hash": "979e4fa6e806255224e54540cb4a56bd960601aad482af6bcc63b7ed560d231e"
  },
  "kernelspec": {
   "display_name": "Python 3 (ipykernel)",
   "language": "python",
   "name": "python3"
  },
  "language_info": {
   "codemirror_mode": {
    "name": "ipython",
    "version": 3
   },
   "file_extension": ".py",
   "mimetype": "text/x-python",
   "name": "python",
   "nbconvert_exporter": "python",
   "pygments_lexer": "ipython3",
   "version": "3.11.4"
  }
 },
 "nbformat": 4,
 "nbformat_minor": 5
}
