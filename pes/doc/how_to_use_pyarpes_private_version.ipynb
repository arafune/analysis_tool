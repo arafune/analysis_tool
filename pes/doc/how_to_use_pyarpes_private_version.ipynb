{
 "cells": [
  {
   "attachments": {},
   "cell_type": "markdown",
   "id": "7edc0b7a-2a77-4330-9613-93d9638cb066",
   "metadata": {
    "tags": []
   },
   "source": [
    "# How to use PyARPES (private version)\n",
    "\n",
    "## Introduction\n",
    "\n",
    "There is a python library called [pyarpes](https://arpes.readthedocs.io/) for analyzing ARPES data.\n",
    "It seems to be quite incomplete and has some buggy functions. However, it is still usable (or so I think).\n",
    "I was wondering what is the difference between this and Igor's analysis?  I will end up using Igor, but it might be useful when handling a large amount of data.\n",
    "Basically, it is designed to handle files that extend xarray, and xarray itself seems to be stable, so its reliability is relatively high.\n",
    "\n",
    "Unfortunatelyy, this package is no longer maintained very well, and in many ways it is not a modern Pythonic description. I decided to manage it myself. Let's aim to make it a robust package.\n"
   ]
  },
  {
   "attachments": {},
   "cell_type": "markdown",
   "id": "9c5f7fe2",
   "metadata": {},
   "source": [
    "## autoreload related\n",
    "\n",
    "Eventually, following three lines are not essential.\n"
   ]
  },
  {
   "cell_type": "code",
   "execution_count": null,
   "id": "8428ad9c-1054-4959-b629-308d9b93d7aa",
   "metadata": {
    "tags": []
   },
   "outputs": [],
   "source": [
    "%load_ext autoreload\n",
    "%autoreload 2\n",
    "%matplotlib inline"
   ]
  },
  {
   "attachments": {},
   "cell_type": "markdown",
   "id": "ba1f8265",
   "metadata": {},
   "source": [
    "## import \n",
    "\n",
    "Let's do the following:\n",
    "\n",
    "* Well, we need numpy in any case.\n",
    "* It's better to set matplotlib explicitly to easily tune the graph.\n",
    "* For coloring the ARPES data by logarithmic scale, we introduce the LogNorm.\n",
    "* arpes.config is (probably) required absolutely\n",
    "* ~~pes.SPD_main.py is written by me, that why the the directory is not arpes~~ Now, SPD_main.py is moved to my pyarpes repository. \n",
    "* qt_tool is used to display the data by using PyQt.\n",
    "* ktool is the same as above but for momentum analysis?\n",
    "* convert_to_kspace is used to convert from angle to momentum. \n",
    "* hvplot.xarray may not be needed.  If you want to use Bokeh.\n",
    "\n",
    "Note that you need enough libraries installed to load the above libraries and not get an error.  However, on the other hand, libralies in pyproject seems to be sufficient for usual task."
   ]
  },
  {
   "cell_type": "code",
   "execution_count": null,
   "id": "10e87e32-dd9b-4fed-885d-3a6b63dee972",
   "metadata": {
    "tags": []
   },
   "outputs": [],
   "source": [
    "import numpy as np\n",
    "import matplotlib.pyplot as plt\n",
    "from matplotlib.colors import LogNorm\n",
    "import hvplot.xarray\n",
    "\n",
    "import arpes.config\n",
    "from arpes.io import load_data\n",
    "from arpes.plotting.qt_ktool import ktool\n",
    "from arpes.plotting.qt_tool import qt_tool\n",
    "from arpes.utilities.conversion.core import convert_to_kspace"
   ]
  },
  {
   "cell_type": "code",
   "execution_count": null,
   "id": "41b4e277-edce-449b-930e-074c9f9cc4ae",
   "metadata": {},
   "outputs": [],
   "source": []
  },
  {
   "attachments": {},
   "cell_type": "markdown",
   "id": "1ca8579b",
   "metadata": {},
   "source": [
    "## Loding　Data\n",
    "\n",
    "In order to load the data you've measured yourself, it is essential to use:\n",
    "\n",
    "* from arpes.io  import load_data \n",
    "\n",
    "\n",
    "\n",
    "If you feel uncertain about the contents of your data, you can use:\n",
    "\n",
    "* from arpes.io import example_data\n",
    "\n",
    "\n",
    "\n",
    "```python:\n",
    "ex = example_data.cut\n",
    "```\n",
    "\n",
    "By examining the contents of ex and comparing them, you might find some hints.\n"
   ]
  },
  {
   "cell_type": "code",
   "execution_count": null,
   "id": "a619da74-641e-4e9c-ac9d-19bcaa3afe5f",
   "metadata": {},
   "outputs": [],
   "source": [
    "from arpes.io import example_data"
   ]
  },
  {
   "attachments": {},
   "cell_type": "markdown",
   "id": "3686d389",
   "metadata": {},
   "source": [
    "The function `load_data` is easy to use for just importing as follows:"
   ]
  },
  {
   "cell_type": "code",
   "execution_count": null,
   "id": "26b25fe6-dd76-43e1-b1e6-1c8ca33f0805",
   "metadata": {},
   "outputs": [],
   "source": [
    "f = load_data(\n",
    "    \"/Users/arafune/src/arpes/src/arpes/example_data/example_itx_data.itx\",\n",
    "    location=\"SPD_phoibos\"\n",
    ")\n",
    "# f2 = load_data(\"/Users/arafune/src/analysis_tool/test/pes/GrIr.sp2\", location=\"SPD_phoibos\")"
   ]
  },
  {
   "attachments": {},
   "cell_type": "markdown",
   "id": "bfba6202",
   "metadata": {},
   "source": [
    "However, if you add another information that was not added in `User Comments` such as:\n",
    "\n",
    "* the value of x, y, z -axis, or temperature,\n",
    "\n",
    "You can use:"
   ]
  },
  {
   "attachments": {},
   "cell_type": "markdown",
   "id": "c2e0a43f",
   "metadata": {},
   "source": [
    "```python\n",
    "f=load_data(\"/Users/arafune/src/analysis_tool/test/pes/PES_16_Spectrum_3.itx\",location=\"SPD_phoibos\",\n",
    "             x=1,\n",
    "             sample_name=\"Cu(111)\")\n",
    "```"
   ]
  },
  {
   "attachments": {},
   "cell_type": "markdown",
   "id": "585353b0",
   "metadata": {},
   "source": [
    "Variable names like ''x'' and ''sample_name'' are recommended to be used as they are pre-defined. \n",
    "Otherwise, they would just remain as regular comments. \n",
    "There seems to be no list or similar thing indicating what variable names are official, so you might need to check after actually loading the data.\n",
    "\n",
    "Both `sample_name` and `sample_workfunction` are variable names that require some understanding. \n",
    "They are not simply \"sample\" or \"workfunction\" (the latter is reserved for the analyzer's work function). \n",
    "This manual doesn't provide additional information, at least not in this section.\n",
    "\n",
    "You'll have to refer to the `xarray_extensions.py` for details.\n",
    "\n",
    "Following outputs may be hinted as the \"standard\" variable name.\n"
   ]
  },
  {
   "cell_type": "code",
   "execution_count": null,
   "id": "49acc161-b1f6-4336-b6b0-b4f03d0519f7",
   "metadata": {},
   "outputs": [],
   "source": [
    "f.S.polarization"
   ]
  },
  {
   "cell_type": "markdown",
   "id": "29ed3684-82b4-48ab-8b74-e446e0a60fcf",
   "metadata": {},
   "source": [
    "f.attrs\n",
    "```python\n",
    "{'spectrum_type': 'cut',\n",
    " 'Created Date (UTC)': '2022-Feb-28 05:03:33.001919',\n",
    " 'Igor Text File Exporter Version': 0.3,\n",
    " 'Created by': 'SpecsLab Prodigy, Version 4.86.2-r103043',\n",
    " 'Scan Mode': 'Fixed Analyzer Transmission',\n",
    " 'User Comment': '',\n",
    " 'Analysis Mode': 'UPS',\n",
    " 'Lens Voltage': '40V',\n",
    " 'Analyzer Slits': '1:0.5x20\\\\B:open',\n",
    " 'Number of Scans': 30,\n",
    " 'Number of Samples': 501,\n",
    " 'Scan Step': 0.002,\n",
    " 'DwellTime': 0.096,\n",
    " 'Kinetic Energy': 9,\n",
    " 'Binding Energy': -4.008,\n",
    " 'Bias Voltage': -1.5,\n",
    " 'angle_unit': 'rad (theta_y)',\n",
    " 'enegy_unit': 'eV (Kinetic Energy)',\n",
    " 'count_unit': 'cps (Intensity)',\n",
    " 'trace': Trace(silent=False, start_time=1688363879143870000),\n",
    " 'hv': 4.992,\n",
    " 'workfunction': 4.401,\n",
    " 'lens_mode': 'WideAngleMode',\n",
    " 'pass_energy': 5,\n",
    " 'mcp_voltage': 1500,\n",
    " 'id': 2,\n",
    " 'x': nan,\n",
    " 'y': nan,\n",
    " 'z': nan,\n",
    " 'theta': 0,\n",
    " 'beta': 0,\n",
    " 'chi': 0,\n",
    " 'alpha': 1.5707963267948966,\n",
    " 'energy_notation': 'Kinetic',\n",
    " 'analyzer': 'Specs PHOIBOS 100',\n",
    " 'analyzer_name': 'Specs PHOIBOS 100',\n",
    " 'parallel_deflectors': False,\n",
    " 'perpendicular_deflectors': False,\n",
    " 'analyzer_radius': 100,\n",
    " 'analyzer_type': 'hemispherical',\n",
    " 'psi': 0,\n",
    " 'chi_offset': 0}\n",
    " ```"
   ]
  },
  {
   "cell_type": "markdown",
   "id": "ad283ea8-3d90-4036-a9cf-54913bd54f31",
   "metadata": {},
   "source": [
    "f.S.spectrometer_settings\n",
    "```python\n",
    "{'lens_mode': 'WideAngleMode', 'pass_energy': 5}\n",
    "```"
   ]
  },
  {
   "cell_type": "markdown",
   "id": "9409048d-e3c0-447d-8034-63282ab6c7a3",
   "metadata": {},
   "source": [
    "f.S.experimental_conditions\n",
    "\n",
    "```python\n",
    "{'hv': 4.992, 'polarization': None, 'temp': None}\n",
    "```"
   ]
  },
  {
   "cell_type": "markdown",
   "id": "dfa423f2-1302-4057-85bf-2c572439a72e",
   "metadata": {},
   "source": [
    "f.S.scan_info\n",
    "```python\n",
    "{'time': None,\n",
    " 'date': None,\n",
    " 'type': None,\n",
    " 'spectrum_type': 'cut',\n",
    " 'experimenter': None,\n",
    " 'sample': None}\n",
    "```"
   ]
  },
  {
   "cell_type": "markdown",
   "id": "2aa7f1da-cc25-46fc-99c6-a2a3f3c7ec98",
   "metadata": {},
   "source": [
    "f.S.sample_angles\n",
    "```python\n",
    "(0,\n",
    " 0,\n",
    " 0,\n",
    " <xarray.DataArray 'phi' (phi: 600)>\n",
    " array([-0.217803, -0.217076, -0.216349, ...,  0.216349,  0.217076,  0.217803])\n",
    " Coordinates:\n",
    "   * phi      (phi) float64 -0.2178 -0.2171 -0.2163 ... 0.2163 0.2171 0.2178\n",
    "     x        float64 nan\n",
    "     y        float64 nan\n",
    "     z        float64 nan\n",
    "     theta    int64 0\n",
    "     beta     int64 0\n",
    "     chi      int64 0\n",
    "     hv       float64 4.992\n",
    "     alpha    float64 1.571\n",
    "     psi      int64 0,\n",
    " 0,\n",
    " 1.5707963267948966)\n",
    "```\n"
   ]
  },
  {
   "cell_type": "markdown",
   "id": "b7ec867a-bf04-45d2-9827-b1a5e6b5cf01",
   "metadata": {},
   "source": [
    "f.S.sample_pos\n",
    "```python\n",
    "(nan, nan, nan)\n",
    "```\n",
    "x, y, z"
   ]
  },
  {
   "cell_type": "markdown",
   "id": "3d40569e-a43a-4b06-b1ba-d8565abb2a1c",
   "metadata": {},
   "source": [
    "f.S.experiment_info\n",
    "```python\n",
    "{'temperature': None,\n",
    " 'temperature_cryotip': None,\n",
    " 'pressure': None,\n",
    " 'polarization': (None, None),\n",
    " 'photon_flux': None,\n",
    " 'photocurrent': None,\n",
    " 'probe': None,\n",
    " 'probe_detail': None,\n",
    " 'analyzer': 'Specs PHOIBOS 100',\n",
    " 'analyzer_detail': {'name': 'Specs PHOIBOS 100',\n",
    "  'parallel_deflectors': False,\n",
    "  'perpendicular_deflectors': False,\n",
    "  'type': 'hemispherical',\n",
    "  'radius': 100}}\n",
    "```\n"
   ]
  },
  {
   "cell_type": "markdown",
   "id": "594819fd-9645-41a4-b436-8f829b5c5055",
   "metadata": {},
   "source": [
    "f.S.laser_info\n",
    "```python\n",
    "{'probe_wavelength': None,\n",
    " 'probe_energy': 4.992,\n",
    " 'probe_fluence': None,\n",
    " 'probe_pulse_energy': None,\n",
    " 'probe_spot_size': (None, None),\n",
    " 'probe_profile': None,\n",
    " 'probe_linewidth': None,\n",
    " 'probe_temporal_width': None,\n",
    " 'probe_polarization': (None, None),\n",
    " 'pump_wavelength': None,\n",
    " 'pump_energy': None,\n",
    " 'pump_fluence': None,\n",
    " 'pump_pulse_energy': None,\n",
    " 'pump_spot_size': (None, None),\n",
    " 'pump_profile': None,\n",
    " 'pump_linewidth': None,\n",
    " 'pump_temporal_width': None,\n",
    " 'pump_polarization': (None, None),\n",
    " 'repetition_rate': None}\n",
    "```"
   ]
  },
  {
   "cell_type": "markdown",
   "id": "27dfc13e-0970-4441-b25b-cb5e36603ba0",
   "metadata": {},
   "source": [
    "f.S.probe_info\n",
    "```python\n",
    "{'probe_wavelength': None,\n",
    " 'probe_energy': 4.992,\n",
    " 'probe_fluence': None,\n",
    " 'probe_pulse_energy': None,\n",
    " 'probe_spot_size': (None, None),\n",
    " 'probe_profile': None,\n",
    " 'probe_linewidth': None,\n",
    " 'probe_temporal_width': None,\n",
    " 'probe_polarization': (None, None)}\n",
    "```"
   ]
  },
  {
   "cell_type": "markdown",
   "id": "c630965f-6c96-4938-8bbd-0fe0e5dda668",
   "metadata": {
    "scrolled": true
   },
   "source": [
    "f.S.pump_info\n",
    "```python\n",
    "{'pump_wavelength': None,\n",
    " 'pump_energy': None,\n",
    " 'pump_fluence': None,\n",
    " 'pump_pulse_energy': None,\n",
    " 'pump_spot_size': (None, None),\n",
    " 'pump_profile': None,\n",
    " 'pump_linewidth': None,\n",
    " 'pump_temporal_width': None,\n",
    " 'pump_polarization': (None, None)}\n",
    "```"
   ]
  },
  {
   "cell_type": "markdown",
   "id": "565ce38c-dad7-4d41-8e2d-3bf521721204",
   "metadata": {},
   "source": [
    "f.S.analyzer_info\n",
    "```python\n",
    "{'lens_mode': 'WideAngleMode',\n",
    " 'lens_mode_name': None,\n",
    " 'acquisition_mode': None,\n",
    " 'pass_energy': 5,\n",
    " 'slit_shape': None,\n",
    " 'slit_width': None,\n",
    " 'slit_number': None,\n",
    " 'lens_table': None,\n",
    " 'analyzer_type': 'hemispherical',\n",
    " 'mcp_voltage': 1500,\n",
    " 'work_function': 4.401}\n",
    "```"
   ]
  },
  {
   "attachments": {},
   "cell_type": "markdown",
   "id": "ca54f323",
   "metadata": {},
   "source": [
    "## Plot\n",
    "\n",
    "The functionality is simple. \n",
    "Regarding this aspect, it's safer to consider it as a feature of xarray rather than pyarpes. \n",
    "As mentioned earlier, xarray seems to be relatively well-maintained. \n",
    "\n",
    "### matplotlib base: S.plot()"
   ]
  },
  {
   "cell_type": "code",
   "execution_count": null,
   "id": "9182b47a",
   "metadata": {},
   "outputs": [],
   "source": [
    "f.S.plot()"
   ]
  },
  {
   "attachments": {},
   "cell_type": "markdown",
   "id": "342aa2ee-fdb2-4146-8b3d-77bc39fb0cb7",
   "metadata": {},
   "source": [
    "By following, you can use the functionality of matplotlib.pyplot directly."
   ]
  },
  {
   "cell_type": "code",
   "execution_count": null,
   "id": "c861a4e9",
   "metadata": {},
   "outputs": [],
   "source": [
    "# However, the plot method of xarray is merely a thin wrapper around matplotlib. Therefore, if you want to change the output format, it's better to do so as follows:\n",
    "fig = plt.figure(figsize=(4, 3))\n",
    "ax = fig.add_subplot(111)\n",
    "f.S.spectrum.T.plot(ax=ax)"
   ]
  },
  {
   "attachments": {},
   "cell_type": "markdown",
   "id": "ab14d8ee-2ecb-468c-9cb4-7d7cf53e6ee5",
   "metadata": {},
   "source": [
    "The plot method of xarray is merely a thin wrapper around matplotlib. \n",
    "Therefore, if you want to change the output format, it's better to do so as follows:"
   ]
  },
  {
   "cell_type": "code",
   "execution_count": null,
   "id": "23137e15",
   "metadata": {},
   "outputs": [],
   "source": [
    "f.S.spectrum.T.plot(aspect=1.3, size=6, cmap=plt.cm.plasma)\n",
    "plt.ylabel(\"Energy relative to E_F ( eV )\")\n",
    "plt.xlabel(\"Emission Angle ( rad )\")\n",
    "plt.title(\"Xe/Au(111) monochromatic 2PPE\")\n",
    "plt.show()"
   ]
  },
  {
   "cell_type": "code",
   "execution_count": null,
   "id": "26f69739",
   "metadata": {},
   "outputs": [],
   "source": [
    "# Logarithmic scale\n",
    "f.S.spectrum.T.plot(aspect=1.7, size=4, cmap=plt.cm.jet, norm=LogNorm(vmin=1, vmax=100))\n",
    "plt.ylabel(\"Energy relative to E_F ( eV )\")\n",
    "plt.xlabel(\"Emission Angle ( rad )\")\n",
    "plt.title(\"Xe/Au(111) monochromatic 2PPE\")\n",
    "plt.show()"
   ]
  },
  {
   "cell_type": "markdown",
   "id": "efb336e8-0d6b-436b-9e02-53c72986d931",
   "metadata": {},
   "source": [
    "### Matplotlib base: stack-trace"
   ]
  },
  {
   "cell_type": "code",
   "execution_count": null,
   "id": "7e12b8a0-14e3-4f4f-aca0-0f697f091223",
   "metadata": {},
   "outputs": [],
   "source": [
    "from arpes.plotting import stack_plot"
   ]
  },
  {
   "cell_type": "code",
   "execution_count": null,
   "id": "3bbab84b-1397-4176-9ccc-ca4d504df991",
   "metadata": {},
   "outputs": [],
   "source": [
    "fig1, ax1 = stack_plot.stack_dispersion_plot(\n",
    "    f.S.spectrum,\n",
    "    max_stacks=20,\n",
    "    scale_factor=0.3,\n",
    "    title=\"2PPE Xe/Au(111)\",\n",
    "    linewidth=0.3,\n",
    "    color=\"plasma\",\n",
    "    shift=0.00,\n",
    "    mode=\"hide_line\",\n",
    "    label=\"label test\",\n",
    "    figsize=(7, 5),\n",
    ")"
   ]
  },
  {
   "cell_type": "code",
   "execution_count": null,
   "id": "9c954e03-cc46-4c17-a450-0efc6fa7b491",
   "metadata": {},
   "outputs": [],
   "source": []
  },
  {
   "cell_type": "code",
   "execution_count": null,
   "id": "f2418939-8881-4568-b043-b7f8300180ce",
   "metadata": {},
   "outputs": [],
   "source": [
    "fig1, ax1 = stack_plot.stack_dispersion_plot(\n",
    "    f.S.spectrum,\n",
    "    max_stacks=10,\n",
    "    scale_factor=0.1,\n",
    "    title=\"2PPE Xe/Au(111)\",\n",
    "    linewidth=0.5,\n",
    "    color=\"plasma\",\n",
    "    shift=0.00,\n",
    "    label=\"label test\",\n",
    "    mode=\"fill_between\",\n",
    "    figsize=(7, 5),\n",
    "    offset_correction=\"zero\",\n",
    ")"
   ]
  },
  {
   "cell_type": "code",
   "execution_count": null,
   "id": "1fa911a9-c6a0-4fab-93e6-87a24e8429ca",
   "metadata": {},
   "outputs": [],
   "source": [
    "fig1, ax1 = stack_plot.stack_dispersion_plot(\n",
    "    f.S.spectrum,\n",
    "    max_stacks=130,\n",
    "    title=\"2PPE Xe/Au(111)\",\n",
    "    linewidth=0.5,\n",
    "    color=\"viridis\",\n",
    "    shift=0.00,\n",
    "    label=\"label test\",\n",
    "    mode=\"hide_line\",\n",
    "    figsize=(7, 4),\n",
    ")"
   ]
  },
  {
   "attachments": {},
   "cell_type": "markdown",
   "id": "c97fa442",
   "metadata": {},
   "source": [
    "#### Bokeh base \n",
    "\n",
    "You can also achieve interactive visualization using Bokeh. While it should be possible to use Bokeh directly, I'll try using hvplot here. Note that there is no codes about hvplot in pyarpes .\n",
    "\n",
    "~~However, please note that the output from hvplot might not be viewable in VS Code.~~\n"
   ]
  },
  {
   "cell_type": "code",
   "execution_count": null,
   "id": "ef51643f-a9b0-4b79-a3a4-88230108c4f8",
   "metadata": {
    "scrolled": true
   },
   "outputs": [],
   "source": [
    "f.hvplot.image(colorbar=True)"
   ]
  },
  {
   "cell_type": "code",
   "execution_count": null,
   "id": "00a8199d-7c3f-4373-803f-a411b960da51",
   "metadata": {
    "scrolled": true
   },
   "outputs": [],
   "source": [
    "f.S.spectrum.T.hvplot(invert=True, frame_height=200, frame_width=400)"
   ]
  },
  {
   "attachments": {},
   "cell_type": "markdown",
   "id": "c4b7a00c",
   "metadata": {},
   "source": [
    "### QT base\n",
    "\n",
    "Just a reference."
   ]
  },
  {
   "cell_type": "code",
   "execution_count": null,
   "id": "49d9046b",
   "metadata": {},
   "outputs": [],
   "source": [
    "#qt_tool(f)"
   ]
  },
  {
   "cell_type": "code",
   "execution_count": null,
   "id": "8008289e",
   "metadata": {},
   "outputs": [],
   "source": [
    "#ktool(f)"
   ]
  },
  {
   "cell_type": "code",
   "execution_count": null,
   "id": "243dd832-9504-43be-9a25-0c72afabf7ae",
   "metadata": {},
   "outputs": [],
   "source": [
    "#f.S.show_band_tool()# 今のところこれが動かない"
   ]
  },
  {
   "attachments": {},
   "cell_type": "markdown",
   "id": "17c76824",
   "metadata": {},
   "source": [
    "## Conversion into k-space"
   ]
  },
  {
   "attachments": {},
   "cell_type": "markdown",
   "id": "1786af3b-c8d2-430a-a56a-1fb021ba69fe",
   "metadata": {},
   "source": [
    "There is a straightforward function called `convert_to_kspace`. In the following example, kp is specified, but if not provided, it automatically determines the appropriate range. ~~However, the treatment of the energy axis needs to be verified.~~ Currently, the data records whether it has the energy axis as Kinetic Energy (Final State Energy) or as Binding Energy. Based on this information, the function automatically and appropriately performs θ-k conversion."
   ]
  },
  {
   "cell_type": "code",
   "execution_count": null,
   "id": "5310058f",
   "metadata": {},
   "outputs": [],
   "source": [
    "convert_to_kspace(f.spectrum, kp=np.linspace(-0.25, 0.25, 100)).plot()\n",
    "plt.ylabel(\"Energy relative to E_F ( eV )\")\n",
    "plt.xlabel(\"$k_{//}$\")"
   ]
  },
  {
   "attachments": {},
   "cell_type": "markdown",
   "id": "f2205bd6-d2fa-462a-b30a-10ad4b866d69",
   "metadata": {},
   "source": [
    "## Derivative"
   ]
  },
  {
   "cell_type": "markdown",
   "id": "b91945fa-0d15-4c36-a7cb-94fc69d39337",
   "metadata": {},
   "source": [
    "## Combination"
   ]
  },
  {
   "cell_type": "markdown",
   "id": "bf964835-f7a4-4f51-8ff4-83422d272dae",
   "metadata": {},
   "source": [
    "### Concatenate along angle"
   ]
  },
  {
   "cell_type": "markdown",
   "id": "e666a734-ace3-4b29-876a-f29699e13454",
   "metadata": {},
   "source": [
    "### Merge time resolved data into single DataSet"
   ]
  },
  {
   "cell_type": "markdown",
   "id": "d7450230-995a-4528-bc17-0330982a5123",
   "metadata": {},
   "source": [
    "## Misc\n"
   ]
  },
  {
   "cell_type": "markdown",
   "id": "610cf594-f9ee-4e87-929a-a22e45582fac",
   "metadata": {},
   "source": [
    "### calculate_background_hull\n"
   ]
  },
  {
   "cell_type": "code",
   "execution_count": null,
   "id": "beb7509f-e97c-4cf3-b082-df0da67b41a9",
   "metadata": {},
   "outputs": [],
   "source": [
    "from arpes.analysis.background import calculate_background_hull"
   ]
  },
  {
   "cell_type": "markdown",
   "id": "ee981182-bf49-4ea6-902f-280f8eee7df2",
   "metadata": {},
   "source": [
    "**NOTE**:\n",
    "This function can be applied to 1D spectrum data.\n",
    "This means that it cannot be use for ARPES data.*"
   ]
  },
  {
   "cell_type": "code",
   "execution_count": null,
   "id": "9d41be7f-e66c-453e-ac9d-c7a8fcdded94",
   "metadata": {},
   "outputs": [],
   "source": [
    "fig = plt.figure()\n",
    "ax = fig.add_subplot(111)\n",
    "calculate_background_hull(f.spectrum.sum(\"phi\")).S.plot(ax=ax)\n",
    "f.spectrum.sum(\"phi\").S.plot(ax=ax)"
   ]
  },
  {
   "cell_type": "markdown",
   "id": "4a4c85c0-2365-4ad1-ab86-07da04172d36",
   "metadata": {},
   "source": [
    "### local_minima\n"
   ]
  },
  {
   "cell_type": "code",
   "execution_count": null,
   "id": "55dee7db-d695-4b5e-90e6-bbafab7a4bd2",
   "metadata": {},
   "outputs": [],
   "source": [
    "from arpes.analysis.xps import local_minima"
   ]
  },
  {
   "cell_type": "code",
   "execution_count": null,
   "id": "77e8445a-f7b1-4cb1-9721-a9ef59148071",
   "metadata": {},
   "outputs": [],
   "source": [
    "eV = f.spectrum.sum(\"phi\").coords[\"eV\"].values\n",
    "intensity = f.spectrum.sum(\"phi\").values"
   ]
  },
  {
   "cell_type": "code",
   "execution_count": null,
   "id": "9ad7bab0-c0b6-4989-a9b4-c40ed6b6207b",
   "metadata": {},
   "outputs": [],
   "source": [
    "from arpes.plotting.qt_ktool import qt_info, ktool"
   ]
  },
  {
   "cell_type": "code",
   "execution_count": null,
   "id": "f19092ad-7c55-4884-943c-72fc1e6d1024",
   "metadata": {},
   "outputs": [],
   "source": [
    "{k: v.values for k, v in f.coords.items() if k == \"eV\"}"
   ]
  },
  {
   "cell_type": "code",
   "execution_count": null,
   "id": "c34b88f3-3b57-4117-acf9-5e9ef988d77b",
   "metadata": {},
   "outputs": [],
   "source": []
  }
 ],
 "metadata": {
  "interpreter": {
   "hash": "979e4fa6e806255224e54540cb4a56bd960601aad482af6bcc63b7ed560d231e"
  },
  "kernelspec": {
   "display_name": "Python 3 (ipykernel)",
   "language": "python",
   "name": "python3"
  },
  "language_info": {
   "codemirror_mode": {
    "name": "ipython",
    "version": 3
   },
   "file_extension": ".py",
   "mimetype": "text/x-python",
   "name": "python",
   "nbconvert_exporter": "python",
   "pygments_lexer": "ipython3",
   "version": "3.11.9"
  },
  "widgets": {
   "application/vnd.jupyter.widget-state+json": {
    "state": {},
    "version_major": 2,
    "version_minor": 0
   }
  }
 },
 "nbformat": 4,
 "nbformat_minor": 5
}
