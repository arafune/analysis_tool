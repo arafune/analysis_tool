{
 "cells": [
  {
   "attachments": {},
   "cell_type": "markdown",
   "id": "0",
   "metadata": {
    "tags": []
   },
   "source": [
    "# How to use PyARPES (private version)\n",
    "\n",
    "## Introduction\n",
    "\n",
    "There is a python library called [pyarpes](https://arpes.readthedocs.io/) for analyzing ARPES data.\n",
    "It seems to be quite incomplete and has some buggy functions. However, it is still usable (or so I think).\n",
    "I was wondering what is the difference between this and Igor's analysis?  I will end up using Igor, but it might be useful when handling a large amount of data.\n",
    "Basically, it is designed to handle files that extend xarray, and xarray itself seems to be stable, so its reliability is relatively high.\n",
    "\n",
    "Unfortunatelyy, this package is no longer maintained very well, and in many ways it is not a modern Pythonic description. I decided to manage it myself. Let's aim to make it a robust package.\n"
   ]
  },
  {
   "attachments": {},
   "cell_type": "markdown",
   "id": "1",
   "metadata": {},
   "source": [
    "## autoreload related\n",
    "\n",
    "Eventually, following three lines are not essential.\n"
   ]
  },
  {
   "cell_type": "code",
   "execution_count": null,
   "id": "2",
   "metadata": {
    "tags": []
   },
   "outputs": [],
   "source": [
    "%load_ext autoreload\n",
    "%autoreload 2\n",
    "%matplotlib inline"
   ]
  },
  {
   "attachments": {},
   "cell_type": "markdown",
   "id": "3",
   "metadata": {},
   "source": [
    "## import \n",
    "\n",
    "Let's do the following:\n",
    "\n",
    "* Well, we need numpy in any case.\n",
    "* It's better to set matplotlib explicitly to easily tune the graph.\n",
    "* For coloring the ARPES data by logarithmic scale, we introduce the LogNorm.\n",
    "* arpes.config is (probably) required absolutely\n",
    "* ~~pes.SPD_main.py is written by me, that why the the directory is not arpes~~ Now, SPD_main.py is moved to my pyarpes repository. \n",
    "* qt_tool is used to display the data by using PyQt.\n",
    "* ktool is the same as above but for momentum analysis?\n",
    "* convert_to_kspace is used to convert from angle to momentum. \n",
    "* hvplot.xarray may not be needed.  If you want to use Bokeh.\n",
    "\n",
    "Note that you need enough libraries installed to load the above libraries and not get an error.  However, on the other hand, libralies in pyproject seems to be sufficient for usual task."
   ]
  },
  {
   "cell_type": "code",
   "execution_count": null,
   "id": "4",
   "metadata": {
    "tags": []
   },
   "outputs": [],
   "source": [
    "import numpy as np\n",
    "import matplotlib.pyplot as plt\n",
    "from matplotlib.colors import LogNorm\n",
    "import hvplot.xarray\n",
    "\n",
    "import arpes.config\n",
    "from arpes.io import load_data\n",
    "from arpes.utilities.conversion.core import convert_to_kspace"
   ]
  },
  {
   "attachments": {},
   "cell_type": "markdown",
   "id": "5",
   "metadata": {},
   "source": [
    "## Loding　Data\n",
    "\n",
    "In order to load the data you've measured yourself, it is essential to use:\n",
    "\n",
    "* from arpes.io  import load_data \n",
    "\n",
    "\n",
    "\n",
    "If you feel uncertain about the contents of your data, you can use:\n",
    "\n",
    "* from arpes.io import example_data\n",
    "\n",
    "\n",
    "\n",
    "```python:\n",
    "ex = example_data.cut\n",
    "```\n",
    "\n",
    "By examining the contents of ex and comparing them, you might find some hints.\n"
   ]
  },
  {
   "cell_type": "code",
   "execution_count": null,
   "id": "6",
   "metadata": {},
   "outputs": [],
   "source": [
    "from arpes.io import example_data"
   ]
  },
  {
   "attachments": {},
   "cell_type": "markdown",
   "id": "7",
   "metadata": {},
   "source": [
    "The function `load_data` is easy to use for just importing as follows:"
   ]
  },
  {
   "cell_type": "code",
   "execution_count": null,
   "id": "8",
   "metadata": {},
   "outputs": [],
   "source": [
    "f = load_data(\n",
    "    \"/Users/arafune/src/arpes/src/arpes/example_data/example_itx_data.itx\",\n",
    "    location=\"SPD_phoibos\"\n",
    ")\n",
    "# f2 = load_data(\"/Users/arafune/src/analysis_tool/test/pes/GrIr.sp2\", location=\"SPD_phoibos\")"
   ]
  },
  {
   "attachments": {},
   "cell_type": "markdown",
   "id": "9",
   "metadata": {},
   "source": [
    "However, if you add another information that was not added in `User Comments` such as:\n",
    "\n",
    "* the value of x, y, z -axis, or temperature,\n",
    "\n",
    "You can use:"
   ]
  },
  {
   "attachments": {},
   "cell_type": "markdown",
   "id": "10",
   "metadata": {},
   "source": [
    "```python\n",
    "f=load_data(\"/Users/arafune/src/analysis_tool/test/pes/PES_16_Spectrum_3.itx\",location=\"SPD_phoibos\",\n",
    "             x=1,\n",
    "             sample_name=\"Cu(111)\")\n",
    "```"
   ]
  },
  {
   "attachments": {},
   "cell_type": "markdown",
   "id": "11",
   "metadata": {},
   "source": [
    "Variable names like ''x'' and ''sample_name'' are recommended to be used as they are pre-defined. \n",
    "Otherwise, they would just remain as regular comments. \n",
    "There seems to be no list or similar thing indicating what variable names are official, so you might need to check after actually loading the data.\n",
    "\n",
    "Both `sample_name` and `sample_workfunction` are variable names that require some understanding. \n",
    "They are not simply \"sample\" or \"workfunction\" (the latter is reserved for the analyzer's work function). \n",
    "This manual doesn't provide additional information, at least not in this section.\n",
    "\n",
    "You'll have to refer to the `xarray_extensions.py` for details.\n",
    "\n",
    "Following outputs may be hinted as the \"standard\" variable name.\n"
   ]
  },
  {
   "cell_type": "code",
   "execution_count": null,
   "id": "12",
   "metadata": {},
   "outputs": [],
   "source": [
    "f.S.polarization"
   ]
  },
  {
   "cell_type": "markdown",
   "id": "13",
   "metadata": {},
   "source": [
    "f.attrs\n",
    "```python\n",
    "{'spectrum_type': 'cut',\n",
    " 'Created Date (UTC)': '2022-Feb-28 05:03:33.001919',\n",
    " 'Igor Text File Exporter Version': 0.3,\n",
    " 'Created by': 'SpecsLab Prodigy, Version 4.86.2-r103043',\n",
    " 'Scan Mode': 'Fixed Analyzer Transmission',\n",
    " 'User Comment': '',\n",
    " 'Analysis Mode': 'UPS',\n",
    " 'Lens Voltage': '40V',\n",
    " 'Analyzer Slits': '1:0.5x20\\\\B:open',\n",
    " 'Number of Scans': 30,\n",
    " 'Number of Samples': 501,\n",
    " 'Scan Step': 0.002,\n",
    " 'DwellTime': 0.096,\n",
    " 'Kinetic Energy': 9,\n",
    " 'Binding Energy': -4.008,\n",
    " 'Bias Voltage': -1.5,\n",
    " 'angle_unit': 'rad (theta_y)',\n",
    " 'enegy_unit': 'eV (Kinetic Energy)',\n",
    " 'count_unit': 'cps (Intensity)',\n",
    " 'trace': Trace(silent=False, start_time=1688363879143870000),\n",
    " 'hv': 4.992,\n",
    " 'workfunction': 4.401,\n",
    " 'lens_mode': 'WideAngleMode',\n",
    " 'pass_energy': 5,\n",
    " 'mcp_voltage': 1500,\n",
    " 'id': 2,\n",
    " 'x': nan,\n",
    " 'y': nan,\n",
    " 'z': nan,\n",
    " 'theta': 0,\n",
    " 'beta': 0,\n",
    " 'chi': 0,\n",
    " 'alpha': 1.5707963267948966,\n",
    " 'energy_notation': 'Kinetic',\n",
    " 'analyzer': 'Specs PHOIBOS 100',\n",
    " 'analyzer_name': 'Specs PHOIBOS 100',\n",
    " 'parallel_deflectors': False,\n",
    " 'perpendicular_deflectors': False,\n",
    " 'analyzer_radius': 100,\n",
    " 'analyzer_type': 'hemispherical',\n",
    " 'psi': 0,\n",
    " 'chi_offset': 0}\n",
    " ```"
   ]
  },
  {
   "cell_type": "markdown",
   "id": "14",
   "metadata": {},
   "source": [
    "f.S.spectrometer_settings\n",
    "```python\n",
    "{'lens_mode': 'WideAngleMode', 'pass_energy': 5}\n",
    "```"
   ]
  },
  {
   "cell_type": "markdown",
   "id": "15",
   "metadata": {},
   "source": [
    "f.S.experimental_conditions\n",
    "\n",
    "```python\n",
    "{'hv': 4.992, 'polarization': None, 'temp': None}\n",
    "```"
   ]
  },
  {
   "cell_type": "markdown",
   "id": "16",
   "metadata": {},
   "source": [
    "f.S.scan_info\n",
    "```python\n",
    "{'time': None,\n",
    " 'date': None,\n",
    " 'type': None,\n",
    " 'spectrum_type': 'cut',\n",
    " 'experimenter': None,\n",
    " 'sample': None}\n",
    "```"
   ]
  },
  {
   "cell_type": "markdown",
   "id": "17",
   "metadata": {},
   "source": [
    "f.S.sample_angles\n",
    "```python\n",
    "(0,\n",
    " 0,\n",
    " 0,\n",
    " <xarray.DataArray 'phi' (phi: 600)>\n",
    " array([-0.217803, -0.217076, -0.216349, ...,  0.216349,  0.217076,  0.217803])\n",
    " Coordinates:\n",
    "   * phi      (phi) float64 -0.2178 -0.2171 -0.2163 ... 0.2163 0.2171 0.2178\n",
    "     x        float64 nan\n",
    "     y        float64 nan\n",
    "     z        float64 nan\n",
    "     theta    int64 0\n",
    "     beta     int64 0\n",
    "     chi      int64 0\n",
    "     hv       float64 4.992\n",
    "     alpha    float64 1.571\n",
    "     psi      int64 0,\n",
    " 0,\n",
    " 1.5707963267948966)\n",
    "```\n"
   ]
  },
  {
   "cell_type": "markdown",
   "id": "18",
   "metadata": {},
   "source": [
    "f.S.sample_pos\n",
    "```python\n",
    "(nan, nan, nan)\n",
    "```\n",
    "x, y, z"
   ]
  },
  {
   "cell_type": "markdown",
   "id": "19",
   "metadata": {},
   "source": [
    "f.S.experiment_info\n",
    "```python\n",
    "{'temperature': None,\n",
    " 'temperature_cryotip': None,\n",
    " 'pressure': None,\n",
    " 'polarization': (None, None),\n",
    " 'photon_flux': None,\n",
    " 'photocurrent': None,\n",
    " 'probe': None,\n",
    " 'probe_detail': None,\n",
    " 'analyzer': 'Specs PHOIBOS 100',\n",
    " 'analyzer_detail': {'name': 'Specs PHOIBOS 100',\n",
    "  'parallel_deflectors': False,\n",
    "  'perpendicular_deflectors': False,\n",
    "  'type': 'hemispherical',\n",
    "  'radius': 100}}\n",
    "```\n"
   ]
  },
  {
   "cell_type": "markdown",
   "id": "20",
   "metadata": {},
   "source": [
    "f.S.laser_info\n",
    "```python\n",
    "{'probe_wavelength': None,\n",
    " 'probe_energy': 4.992,\n",
    " 'probe_fluence': None,\n",
    " 'probe_pulse_energy': None,\n",
    " 'probe_spot_size': (None, None),\n",
    " 'probe_profile': None,\n",
    " 'probe_linewidth': None,\n",
    " 'probe_temporal_width': None,\n",
    " 'probe_polarization': (None, None),\n",
    " 'pump_wavelength': None,\n",
    " 'pump_energy': None,\n",
    " 'pump_fluence': None,\n",
    " 'pump_pulse_energy': None,\n",
    " 'pump_spot_size': (None, None),\n",
    " 'pump_profile': None,\n",
    " 'pump_linewidth': None,\n",
    " 'pump_temporal_width': None,\n",
    " 'pump_polarization': (None, None),\n",
    " 'repetition_rate': None}\n",
    "```"
   ]
  },
  {
   "cell_type": "markdown",
   "id": "21",
   "metadata": {},
   "source": [
    "f.S.probe_info\n",
    "```python\n",
    "{'probe_wavelength': None,\n",
    " 'probe_energy': 4.992,\n",
    " 'probe_fluence': None,\n",
    " 'probe_pulse_energy': None,\n",
    " 'probe_spot_size': (None, None),\n",
    " 'probe_profile': None,\n",
    " 'probe_linewidth': None,\n",
    " 'probe_temporal_width': None,\n",
    " 'probe_polarization': (None, None)}\n",
    "```"
   ]
  },
  {
   "cell_type": "markdown",
   "id": "22",
   "metadata": {},
   "source": [
    "f.S.pump_info\n",
    "```python\n",
    "{'pump_wavelength': None,\n",
    " 'pump_energy': None,\n",
    " 'pump_fluence': None,\n",
    " 'pump_pulse_energy': None,\n",
    " 'pump_spot_size': (None, None),\n",
    " 'pump_profile': None,\n",
    " 'pump_linewidth': None,\n",
    " 'pump_temporal_width': None,\n",
    " 'pump_polarization': (None, None)}\n",
    "```"
   ]
  },
  {
   "cell_type": "markdown",
   "id": "23",
   "metadata": {},
   "source": [
    "f.S.analyzer_info\n",
    "```python\n",
    "{'lens_mode': 'WideAngleMode',\n",
    " 'lens_mode_name': None,\n",
    " 'acquisition_mode': None,\n",
    " 'pass_energy': 5,\n",
    " 'slit_shape': None,\n",
    " 'slit_width': None,\n",
    " 'slit_number': None,\n",
    " 'lens_table': None,\n",
    " 'analyzer_type': 'hemispherical',\n",
    " 'mcp_voltage': 1500,\n",
    " 'work_function': 4.401}\n",
    "```"
   ]
  },
  {
   "attachments": {},
   "cell_type": "markdown",
   "id": "24",
   "metadata": {},
   "source": [
    "## Plot\n",
    "\n",
    "The functionality is simple. \n",
    "Regarding this aspect, it's safer to consider it as a feature of xarray rather than pyarpes. \n",
    "As mentioned earlier, xarray seems to be relatively well-maintained. \n",
    "\n",
    "### matplotlib base: S.plot()"
   ]
  },
  {
   "cell_type": "code",
   "execution_count": null,
   "id": "25",
   "metadata": {},
   "outputs": [],
   "source": [
    "f.S.plot()"
   ]
  },
  {
   "attachments": {},
   "cell_type": "markdown",
   "id": "26",
   "metadata": {},
   "source": [
    "By following, you can use the functionality of matplotlib.pyplot directly."
   ]
  },
  {
   "cell_type": "code",
   "execution_count": null,
   "id": "27",
   "metadata": {},
   "outputs": [],
   "source": [
    "# However, the plot method of xarray is merely a thin wrapper around matplotlib. Therefore, if you want to change the output format, it's better to do so as follows:\n",
    "fig = plt.figure(figsize=(4, 3))\n",
    "ax = fig.add_subplot(111)\n",
    "f.S.spectrum.T.plot(ax=ax)"
   ]
  },
  {
   "attachments": {},
   "cell_type": "markdown",
   "id": "28",
   "metadata": {},
   "source": [
    "The plot method of xarray is merely a thin wrapper around matplotlib. \n",
    "Therefore, if you want to change the output format, it's better to do so as follows:"
   ]
  },
  {
   "cell_type": "code",
   "execution_count": null,
   "id": "29",
   "metadata": {},
   "outputs": [],
   "source": [
    "f.S.spectrum.T.plot(aspect=1.3, size=6, cmap=plt.cm.plasma)\n",
    "plt.ylabel(\"Energy relative to E_F ( eV )\")\n",
    "plt.xlabel(\"Emission Angle ( rad )\")\n",
    "plt.title(\"Xe/Au(111) monochromatic 2PPE\")\n",
    "plt.show()"
   ]
  },
  {
   "cell_type": "code",
   "execution_count": null,
   "id": "30",
   "metadata": {},
   "outputs": [],
   "source": [
    "# Logarithmic scale\n",
    "f.S.spectrum.T.plot(aspect=1.7, size=4, cmap=plt.cm.jet, norm=LogNorm(vmin=1, vmax=100))\n",
    "plt.ylabel(\"Energy relative to E_F ( eV )\")\n",
    "plt.xlabel(\"Emission Angle ( rad )\")\n",
    "plt.title(\"Xe/Au(111) monochromatic 2PPE\")\n",
    "plt.show()"
   ]
  },
  {
   "cell_type": "markdown",
   "id": "31",
   "metadata": {},
   "source": [
    "### Matplotlib base: stack-trace"
   ]
  },
  {
   "cell_type": "code",
   "execution_count": null,
   "id": "32",
   "metadata": {},
   "outputs": [],
   "source": [
    "from arpes.plotting import stack_plot"
   ]
  },
  {
   "cell_type": "code",
   "execution_count": null,
   "id": "33",
   "metadata": {},
   "outputs": [],
   "source": [
    "fig1, ax1 = stack_plot.stack_dispersion_plot(\n",
    "    f.S.spectrum,\n",
    "    max_stacks=20,\n",
    "    scale_factor=0.3,\n",
    "    title=\"2PPE Xe/Au(111)\",\n",
    "    linewidth=0.3,\n",
    "    color=\"plasma\",\n",
    "    shift=0.00,\n",
    "    mode=\"hide_line\",\n",
    "    label=\"label test\",\n",
    "    figsize=(7, 5),\n",
    ")"
   ]
  },
  {
   "cell_type": "code",
   "execution_count": null,
   "id": "34",
   "metadata": {},
   "outputs": [],
   "source": []
  },
  {
   "cell_type": "code",
   "execution_count": null,
   "id": "35",
   "metadata": {},
   "outputs": [],
   "source": [
    "fig1, ax1 = stack_plot.stack_dispersion_plot(\n",
    "    f.S.spectrum,\n",
    "    max_stacks=10,\n",
    "    scale_factor=0.1,\n",
    "    title=\"2PPE Xe/Au(111)\",\n",
    "    linewidth=0.5,\n",
    "    color=\"plasma\",\n",
    "    shift=0.00,\n",
    "    label=\"label test\",\n",
    "    mode=\"fill_between\",\n",
    "    figsize=(7, 5),\n",
    "    offset_correction=\"zero\",\n",
    ")"
   ]
  },
  {
   "cell_type": "code",
   "execution_count": null,
   "id": "36",
   "metadata": {},
   "outputs": [],
   "source": [
    "fig1, ax1 = stack_plot.stack_dispersion_plot(\n",
    "    f.S.spectrum,\n",
    "    max_stacks=130,\n",
    "    title=\"2PPE Xe/Au(111)\",\n",
    "    linewidth=0.5,\n",
    "    color=\"viridis\",\n",
    "    shift=0.00,\n",
    "    label=\"label test\",\n",
    "    mode=\"hide_line\",\n",
    "    figsize=(7, 4),\n",
    ")"
   ]
  },
  {
   "attachments": {},
   "cell_type": "markdown",
   "id": "37",
   "metadata": {},
   "source": [
    "#### Bokeh base \n",
    "\n",
    "You can also achieve interactive visualization using Bokeh. While it should be possible to use Bokeh directly, I'll try using hvplot here. Note that there is no codes about hvplot in pyarpes .\n",
    "\n",
    "~~However, please note that the output from hvplot might not be viewable in VS Code.~~\n"
   ]
  },
  {
   "cell_type": "code",
   "execution_count": null,
   "id": "38",
   "metadata": {},
   "outputs": [],
   "source": [
    "f.hvplot.image(colorbar=True)"
   ]
  },
  {
   "cell_type": "code",
   "execution_count": null,
   "id": "39",
   "metadata": {},
   "outputs": [],
   "source": [
    "f.S.spectrum.T.hvplot(invert=True, frame_height=200, frame_width=400)"
   ]
  },
  {
   "attachments": {},
   "cell_type": "markdown",
   "id": "40",
   "metadata": {},
   "source": [
    "## Conversion into k-space"
   ]
  },
  {
   "attachments": {},
   "cell_type": "markdown",
   "id": "41",
   "metadata": {},
   "source": [
    "There is a straightforward function called `convert_to_kspace`. In the following example, kp is specified, but if not provided, it automatically determines the appropriate range. ~~However, the treatment of the energy axis needs to be verified.~~ Currently, the data records whether it has the energy axis as Kinetic Energy (Final State Energy) or as Binding Energy. Based on this information, the function automatically and appropriately performs θ-k conversion."
   ]
  },
  {
   "cell_type": "code",
   "execution_count": null,
   "id": "42",
   "metadata": {},
   "outputs": [],
   "source": [
    "convert_to_kspace(f.spectrum, kp=np.linspace(-0.25, 0.25, 100)).plot()\n",
    "plt.ylabel(\"Energy relative to E_F ( eV )\")\n",
    "plt.xlabel(\"$k_{//}$\")"
   ]
  },
  {
   "attachments": {},
   "cell_type": "markdown",
   "id": "43",
   "metadata": {},
   "source": [
    "## Derivative"
   ]
  },
  {
   "cell_type": "markdown",
   "id": "44",
   "metadata": {},
   "source": [
    "## Combination"
   ]
  },
  {
   "cell_type": "markdown",
   "id": "45",
   "metadata": {},
   "source": [
    "### Concatenate along angle"
   ]
  },
  {
   "cell_type": "markdown",
   "id": "46",
   "metadata": {},
   "source": [
    "### Merge time resolved data into single DataSet"
   ]
  },
  {
   "cell_type": "markdown",
   "id": "47",
   "metadata": {},
   "source": [
    "## Misc\n"
   ]
  },
  {
   "cell_type": "markdown",
   "id": "48",
   "metadata": {},
   "source": [
    "### calculate_background_hull\n"
   ]
  },
  {
   "cell_type": "code",
   "execution_count": null,
   "id": "49",
   "metadata": {},
   "outputs": [],
   "source": [
    "from arpes.analysis.background import calculate_background_hull"
   ]
  },
  {
   "cell_type": "markdown",
   "id": "50",
   "metadata": {},
   "source": [
    "**NOTE**:\n",
    "This function can be applied to 1D spectrum data.\n",
    "This means that it cannot be use for ARPES data.*"
   ]
  },
  {
   "cell_type": "code",
   "execution_count": null,
   "id": "51",
   "metadata": {},
   "outputs": [],
   "source": [
    "fig = plt.figure()\n",
    "ax = fig.add_subplot(111)\n",
    "calculate_background_hull(f.spectrum.sum(\"phi\")).S.plot(ax=ax)\n",
    "f.spectrum.sum(\"phi\").S.plot(ax=ax)"
   ]
  },
  {
   "cell_type": "markdown",
   "id": "52",
   "metadata": {},
   "source": [
    "### local_minima\n"
   ]
  },
  {
   "cell_type": "code",
   "execution_count": null,
   "id": "53",
   "metadata": {},
   "outputs": [],
   "source": [
    "from arpes.analysis.xps import local_minima"
   ]
  },
  {
   "cell_type": "code",
   "execution_count": null,
   "id": "54",
   "metadata": {},
   "outputs": [],
   "source": [
    "eV = f.spectrum.sum(\"phi\").coords[\"eV\"].values\n",
    "intensity = f.spectrum.sum(\"phi\").values"
   ]
  },
  {
   "cell_type": "code",
   "execution_count": null,
   "id": "55",
   "metadata": {},
   "outputs": [],
   "source": []
  }
 ],
 "metadata": {
  "interpreter": {
   "hash": "979e4fa6e806255224e54540cb4a56bd960601aad482af6bcc63b7ed560d231e"
  },
  "kernelspec": {
   "display_name": "Python 3 (ipykernel)",
   "language": "python",
   "name": "python3"
  },
  "language_info": {
   "codemirror_mode": {
    "name": "ipython",
    "version": 3
   },
   "file_extension": ".py",
   "mimetype": "text/x-python",
   "name": "python",
   "nbconvert_exporter": "python",
   "pygments_lexer": "ipython3",
   "version": "3.12.11"
  }
 },
 "nbformat": 4,
 "nbformat_minor": 5
}
