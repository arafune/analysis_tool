{
 "cells": [
  {
   "cell_type": "code",
   "execution_count": null,
   "id": "8c62936c-3b91-46c0-b062-5dd7875c9ef6",
   "metadata": {},
   "outputs": [],
   "source": [
    "%load_ext autoreload\n",
    "%autoreload 2"
   ]
  },
  {
   "cell_type": "code",
   "execution_count": null,
   "id": "89cd29a5-99a9-4565-ba37-8fbe3cbb55a7",
   "metadata": {},
   "outputs": [],
   "source": [
    "%matplotlib inline\n",
    "from pathlib import Path\n",
    "import glob\n",
    "import matplotlib.pyplot as plt\n",
    "from matplotlib.colors import LogNorm\n",
    "\n",
    "import numpy as np\n",
    "import hvplot.xarray\n",
    "\n",
    "import holoviews as hv\n",
    "from holoviews import opts\n",
    "hv.extension('bokeh')"
   ]
  },
  {
   "cell_type": "markdown",
   "id": "b9cccc08-dd51-4052-b1ce-3971ee4c90db",
   "metadata": {},
   "source": [
    "# Build Dataset.F.show()"
   ]
  },
  {
   "cell_type": "code",
   "execution_count": null,
   "id": "d5762b6e-b6a8-4020-8666-2979ba66d99d",
   "metadata": {},
   "outputs": [],
   "source": [
    "import arpes.config\n",
    "from arpes.io import load_data\n",
    "from arpes.endstations.prodigy_itx import export_itx\n",
    "from arpes.analysis import rebin\n",
    "from arpes.plotting.stack_plot import stack_dispersion_plot,flat_stack_plot\n",
    "from arpes.utilities.conversion import convert_to_kspace\n",
    "\n",
    "from arpes.fits import AffineBroadenedFD, GaussianModel, broadcast_model, VoigtModel"
   ]
  },
  {
   "cell_type": "code",
   "execution_count": null,
   "id": "928bb884-556c-4dbd-92cf-5e7d8f762126",
   "metadata": {},
   "outputs": [],
   "source": [
    "from holoviews import AdjointLayout, DynamicMap\n",
    "import xarray as xr\n",
    "import lmfit as lf\n",
    "import numpy as np\n",
    "from typing import TYPE_CHECKING, Unpack\n",
    "import holoviews as hv\n",
    "from arpes._typing import ProfileViewParam"
   ]
  },
  {
   "cell_type": "code",
   "execution_count": null,
   "id": "f447c89f-dbb8-4772-95bc-3cc40b8bc974",
   "metadata": {},
   "outputs": [],
   "source": [
    "test_data=load_data(\"/Users/arafune/OneDrive/xml/SPLab_095/corrected/Groop1_1_Region1.itx\", location=\"SPD\").spectrum"
   ]
  },
  {
   "cell_type": "code",
   "execution_count": null,
   "id": "43d46266-0e25-472a-be53-c5ab589d0a27",
   "metadata": {},
   "outputs": [],
   "source": [
    "test_data.S.show()"
   ]
  },
  {
   "cell_type": "code",
   "execution_count": null,
   "id": "7afb0fef-93fa-49c9-a77e-d6db062a30bd",
   "metadata": {},
   "outputs": [],
   "source": [
    "fit_results = broadcast_model(\n",
    "    [GaussianModel, GaussianModel],\n",
    "    test_data,\n",
    "    \"phi\",\n",
    "    params={\"sr1_center\": {\"value\": 5.4, \"vary\": True},\"sr2_center\": {\"value\": 5.75, \"vary\": True}},\n",
    "    prefixes=(\"sr1_\",\"sr2_\"),\n",
    "    progress=True\n",
    ")"
   ]
  },
  {
   "cell_type": "code",
   "execution_count": null,
   "id": "b7fb8728-12e7-47c2-a9ce-5df549fe1d9d",
   "metadata": {},
   "outputs": [],
   "source": [
    "fit_results"
   ]
  },
  {
   "cell_type": "code",
   "execution_count": null,
   "id": "9810bc85",
   "metadata": {},
   "outputs": [],
   "source": [
    "fit = fit_results.data + fit_results.residual\n",
    "ev_axis = fit.coords[\"eV\"].values\n",
    "spectrum = fit.sel(phi=-0.15, method=\"nearest\").values"
   ]
  },
  {
   "cell_type": "code",
   "execution_count": null,
   "id": "bc7167b7-c219-4216-ae2e-be17c9fdb515",
   "metadata": {},
   "outputs": [],
   "source": []
  },
  {
   "cell_type": "code",
   "execution_count": null,
   "id": "41db2004",
   "metadata": {},
   "outputs": [],
   "source": [
    "sc = hv.Scatter(fit.sel(phi=-0.15, method=\"nearest\"))"
   ]
  },
  {
   "cell_type": "code",
   "execution_count": null,
   "id": "2208dee5",
   "metadata": {},
   "outputs": [],
   "source": [
    "fit_results.F.show()"
   ]
  },
  {
   "cell_type": "code",
   "execution_count": null,
   "id": "a1910103-b49d-4772-8797-b3545aa11e85",
   "metadata": {},
   "outputs": [],
   "source": []
  }
 ],
 "metadata": {
  "kernelspec": {
   "display_name": "Python 3 (ipykernel)",
   "language": "python",
   "name": "python3"
  },
  "language_info": {
   "codemirror_mode": {
    "name": "ipython",
    "version": 3
   },
   "file_extension": ".py",
   "mimetype": "text/x-python",
   "name": "python",
   "nbconvert_exporter": "python",
   "pygments_lexer": "ipython3",
   "version": "3.11.9"
  },
  "widgets": {
   "application/vnd.jupyter.widget-state+json": {
    "state": {},
    "version_major": 2,
    "version_minor": 0
   }
  }
 },
 "nbformat": 4,
 "nbformat_minor": 5
}
