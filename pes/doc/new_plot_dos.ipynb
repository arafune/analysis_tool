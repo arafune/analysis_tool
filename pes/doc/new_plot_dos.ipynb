{
 "cells": [
  {
   "cell_type": "code",
   "execution_count": null,
   "id": "169eb593-3833-4a44-a668-a0dd24511c02",
   "metadata": {},
   "outputs": [],
   "source": [
    "%matplotlib inline\n",
    "\n",
    "import arpes.config"
   ]
  },
  {
   "cell_type": "code",
   "execution_count": null,
   "id": "319e144a-a768-4475-90c4-da46976963c0",
   "metadata": {},
   "outputs": [],
   "source": [
    "from arpes.io import example_data\n",
    "\n",
    "dataarray_cut2 = example_data.cut2.spectrum "
   ]
  },
  {
   "cell_type": "code",
   "execution_count": null,
   "id": "3afaff44-b575-4b73-a152-90d5dd7f3fec",
   "metadata": {},
   "outputs": [],
   "source": [
    "import matplotlib.pyplot as plt\n",
    "from matplotlib import gridspec\n",
    "from matplotlib.colorbar import make_axes"
   ]
  },
  {
   "cell_type": "code",
   "execution_count": null,
   "id": "e41fb157-3bf3-4ee3-94fd-6a80fde0ae75",
   "metadata": {},
   "outputs": [],
   "source": []
  },
  {
   "cell_type": "code",
   "execution_count": null,
   "id": "3aad0e98-1960-4419-8e3f-7329d454af6b",
   "metadata": {},
   "outputs": [],
   "source": [
    "fig = plt.figure(figsize=(14,6))\n",
    "fig.subplots_adjust(hspace=0.0)\n",
    "gs = gridspec.GridSpec(nrows=2, ncols=1, height_ratios=[3, 1])"
   ]
  },
  {
   "cell_type": "code",
   "execution_count": null,
   "id": "517ef8f4-5ee9-46e7-a2d6-701482c12bd7",
   "metadata": {},
   "outputs": [],
   "source": [
    "ax0 = fig.add_subplot(gs[0])\n",
    "ax1 = fig.add_subplot(gs[1], sharex=ax0)\n",
    "mesh = dataarray_cut2.plot(ax=ax0)\n",
    "dos = dataarray_cut2.S.sum_other([\"eV\"])\n",
    "dos.S.plot(ax=ax1)\n",
    "plt.setp([ax0, ax1], title=\"\")\n",
    "fig"
   ]
  },
  {
   "cell_type": "code",
   "execution_count": null,
   "id": "6e57afaf-ee35-4bd7-9eeb-7698af42dc4d",
   "metadata": {},
   "outputs": [],
   "source": []
  },
  {
   "cell_type": "code",
   "execution_count": null,
   "id": "9c0d6b75-96f8-4607-b589-4eedba298a6e",
   "metadata": {},
   "outputs": [],
   "source": [
    "plt.pcolormesh(dataarray_cut2.coords[\"eV\"], dataarray_cut2.coords[\"phi\"],dataarray_cut2)\n"
   ]
  },
  {
   "cell_type": "code",
   "execution_count": null,
   "id": "9085de44-826c-4a99-9938-b4b8dd612ec3",
   "metadata": {},
   "outputs": [],
   "source": []
  }
 ],
 "metadata": {
  "kernelspec": {
   "display_name": "Python 3 (ipykernel)",
   "language": "python",
   "name": "python3"
  },
  "language_info": {
   "codemirror_mode": {
    "name": "ipython",
    "version": 3
   },
   "file_extension": ".py",
   "mimetype": "text/x-python",
   "name": "python",
   "nbconvert_exporter": "python",
   "pygments_lexer": "ipython3",
   "version": "3.11.9"
  },
  "widgets": {
   "application/vnd.jupyter.widget-state+json": {
    "state": {},
    "version_major": 2,
    "version_minor": 0
   }
  }
 },
 "nbformat": 4,
 "nbformat_minor": 5
}
