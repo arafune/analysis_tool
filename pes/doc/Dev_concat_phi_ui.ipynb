{
 "cells": [
  {
   "cell_type": "code",
   "execution_count": null,
   "id": "2be84f5c-bca9-4823-9153-2c9eb852c83d",
   "metadata": {},
   "outputs": [],
   "source": [
    "%load_ext autoreload\n",
    "%autoreload 2"
   ]
  },
  {
   "cell_type": "code",
   "execution_count": null,
   "id": "93efd74c-a28d-4a53-a4c1-e8815b29a0fe",
   "metadata": {},
   "outputs": [],
   "source": [
    "import arpes\n",
    "import arpes.config\n",
    "from arpes.io import load_data"
   ]
  },
  {
   "cell_type": "code",
   "execution_count": null,
   "id": "9e131a9e-e22b-4344-9cda-c7a98655f325",
   "metadata": {},
   "outputs": [],
   "source": [
    "from arpes.utilities import concat_along_phi"
   ]
  },
  {
   "cell_type": "code",
   "execution_count": null,
   "id": "d923bdac-a7d7-4590-8456-216a4ed4fcae",
   "metadata": {},
   "outputs": [],
   "source": [
    "sp1 = load_data(\"/Users/arafune/OneDrive/xml/SPLab_095/corrected/Groop1_2_Region2.itx\", location=\"SPD\").spectrum.S.corrected_angle_by(\"beta\")\n",
    "sp2 = load_data(\"/Users/arafune/OneDrive/xml/SPLab_095/corrected/Groop1_4_Region4.itx\", location=\"SPD\").spectrum.S.corrected_angle_by(\"beta\")"
   ]
  },
  {
   "cell_type": "code",
   "execution_count": null,
   "id": "427a385e-8f06-419f-a1a7-1caaa7acd52e",
   "metadata": {},
   "outputs": [],
   "source": [
    "arpes.plotting.make_overview([sp1, sp2])"
   ]
  },
  {
   "cell_type": "code",
   "execution_count": null,
   "id": "21fdb93c-c3f8-42d6-bb04-944f30609000",
   "metadata": {},
   "outputs": [],
   "source": [
    "arpes.utilities.concat_along_phi(sp1, sp2, enhance_a=1.12).S"
   ]
  },
  {
   "cell_type": "code",
   "execution_count": null,
   "id": "3307f88e-94f2-4cc9-9da9-0e5c95f0199f",
   "metadata": {},
   "outputs": [],
   "source": [
    "import holoviews as hv"
   ]
  },
  {
   "cell_type": "code",
   "execution_count": null,
   "id": "d86c82b0-659b-49f9-835c-849df73ed70b",
   "metadata": {},
   "outputs": [],
   "source": [
    "concat_ = arpes.utilities.concat_along_phi(sp1, sp2, enhance_a=1.12)"
   ]
  },
  {
   "cell_type": "code",
   "execution_count": null,
   "id": "f255344c-a268-462f-9e21-49b15b538368",
   "metadata": {},
   "outputs": [],
   "source": [
    "hv.QuadMesh((concat_.coords[\"eV\"], concat_.coords[\"phi\"], concat_.values), kdims=[\"eV\", \"phi\"], vdims=[\"spectral\"])"
   ]
  },
  {
   "cell_type": "code",
   "execution_count": null,
   "id": "619eb732-82b2-4e2f-9f58-5e81072a45b4",
   "metadata": {},
   "outputs": [],
   "source": [
    "arpes.plotting.holoviews.concat_along_phi_ui(sp1, sp2)"
   ]
  }
 ],
 "metadata": {
  "kernelspec": {
   "display_name": "Python 3 (ipykernel)",
   "language": "python",
   "name": "python3"
  },
  "language_info": {
   "codemirror_mode": {
    "name": "ipython",
    "version": 3
   },
   "file_extension": ".py",
   "mimetype": "text/x-python",
   "name": "python",
   "nbconvert_exporter": "python",
   "pygments_lexer": "ipython3",
   "version": "3.11.9"
  }
 },
 "nbformat": 4,
 "nbformat_minor": 5
}
