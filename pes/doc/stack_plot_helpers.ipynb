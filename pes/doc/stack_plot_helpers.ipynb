{
 "cells": [
  {
   "cell_type": "code",
   "execution_count": 14,
   "id": "c7583f39-f6df-4abb-972d-bb37bc3d8a99",
   "metadata": {},
   "outputs": [
    {
     "name": "stdout",
     "output_type": "stream",
     "text": [
      "Activating auto-logging. Current session state plus future input saved.\n",
      "Filename       : logs/Untitled2_2024-06-21_06-03-05.log\n",
      "Mode           : backup\n",
      "Output logging : False\n",
      "Raw input log  : False\n",
      "Timestamping   : False\n",
      "State          : active\n"
     ]
    }
   ],
   "source": [
    "import arpes.config\n",
    "from arpes.io import example_data\n",
    "dataarray_cut2 = example_data.cut2.spectrum"
   ]
  },
  {
   "cell_type": "code",
   "execution_count": 15,
   "id": "631264d6-e084-4a14-af8b-b84adc9d9370",
   "metadata": {},
   "outputs": [],
   "source": [
    "from arpes.plotting import stack_plot"
   ]
  },
  {
   "cell_type": "code",
   "execution_count": 18,
   "id": "1504074e-56d3-454c-910e-e29fb8aa517f",
   "metadata": {},
   "outputs": [],
   "source": [
    "an_iterator = dataarray_cut2.G.iter_coords(\"phi\")"
   ]
  },
  {
   "cell_type": "code",
   "execution_count": 19,
   "id": "f8a811da-2d3a-4436-9c34-d418eacb2174",
   "metadata": {},
   "outputs": [],
   "source": [
    "first_coord = next(an_iterator)"
   ]
  },
  {
   "cell_type": "code",
   "execution_count": 20,
   "id": "986bb39b-2523-4522-a436-c03b11766f96",
   "metadata": {},
   "outputs": [
    {
     "data": {
      "text/plain": [
       "{'phi': np.float64(-0.2178031280148764)}"
      ]
     },
     "execution_count": 20,
     "metadata": {},
     "output_type": "execute_result"
    }
   ],
   "source": [
    "first_coord"
   ]
  },
  {
   "cell_type": "code",
   "execution_count": 26,
   "id": "a85943a3-850a-4d7d-8f1b-033f6d769e22",
   "metadata": {},
   "outputs": [],
   "source": [
    "ys0 = stack_plot._y_shifted(offset_correction=\"zero\", coord_value=first_coord[\"phi\"],\n",
    "                      marginal=dataarray_cut2.sel(first_coord),\n",
    "                      scale_parameters=(1, 10, False)\n",
    "                    )"
   ]
  },
  {
   "cell_type": "code",
   "execution_count": 27,
   "id": "fa174a76-72ec-449a-8b88-dda1a879f4dd",
   "metadata": {},
   "outputs": [
    {
     "data": {
      "text/plain": [
       "array([-0.09820913, -0.15604263, -0.14532103, -0.16914233, -0.11608813])"
      ]
     },
     "execution_count": 27,
     "metadata": {},
     "output_type": "execute_result"
    }
   ],
   "source": [
    "ys0[:5]"
   ]
  },
  {
   "cell_type": "code",
   "execution_count": 28,
   "id": "8a2154c9-39ac-476d-94a8-799f9987618e",
   "metadata": {},
   "outputs": [],
   "source": [
    "ys0 = stack_plot._y_shifted(offset_correction=\"zero\", coord_value=first_coord[\"phi\"],\n",
    "                      marginal=dataarray_cut2.sel(first_coord),\n",
    "                      scale_parameters=(1, 10, False)\n",
    "                    )"
   ]
  },
  {
   "cell_type": "code",
   "execution_count": 29,
   "id": "6e7a018d-26a1-465b-9b17-c9b4982dc5b4",
   "metadata": {},
   "outputs": [
    {
     "data": {
      "text/plain": [
       "array([-0.09820913, -0.15604263, -0.14532103, -0.16914233, -0.11608813])"
      ]
     },
     "execution_count": 29,
     "metadata": {},
     "output_type": "execute_result"
    }
   ],
   "source": [
    "ys0[:5]"
   ]
  },
  {
   "cell_type": "code",
   "execution_count": 30,
   "id": "8efa4625-586d-4726-84f0-10e2ffd2da4b",
   "metadata": {},
   "outputs": [],
   "source": [
    "ys1 =       stack_plot._y_shifted(\n",
    "            offset_correction=\"constant\",\n",
    "            coord_value=first_coord[\"phi\"],\n",
    "            marginal=dataarray_cut2.sel(first_coord),\n",
    "            scale_parameters=(1, 10, False))\n"
   ]
  },
  {
   "cell_type": "code",
   "execution_count": 31,
   "id": "1b6b97ea-349a-49d1-83e5-ac0b21271511",
   "metadata": {},
   "outputs": [
    {
     "data": {
      "text/plain": [
       "array([-0.21780313, -0.27563663, -0.26491503, -0.28873633, -0.23568213])"
      ]
     },
     "execution_count": 31,
     "metadata": {},
     "output_type": "execute_result"
    }
   ],
   "source": [
    "ys1[:5]"
   ]
  },
  {
   "cell_type": "code",
   "execution_count": 32,
   "id": "c1f9ee60-b68e-4934-b02f-3b396cc88941",
   "metadata": {},
   "outputs": [],
   "source": [
    "ys2 =       stack_plot._y_shifted(\n",
    "            offset_correction=\"constant_right\",\n",
    "            coord_value=first_coord[\"phi\"],\n",
    "            marginal=dataarray_cut2.sel(first_coord),\n",
    "            scale_parameters=(1, 10, False))\n"
   ]
  },
  {
   "cell_type": "code",
   "execution_count": 33,
   "id": "122cf8ca-e42b-420d-94cb-a854d4325fb7",
   "metadata": {},
   "outputs": [
    {
     "data": {
      "text/plain": [
       "array([-0.09820913, -0.15604263, -0.14532103, -0.16914233, -0.11608813])"
      ]
     },
     "execution_count": 33,
     "metadata": {},
     "output_type": "execute_result"
    }
   ],
   "source": [
    "ys2[:5]"
   ]
  },
  {
   "cell_type": "code",
   "execution_count": null,
   "id": "a10e7181-04d3-41ec-aeed-81a98e73d0d9",
   "metadata": {},
   "outputs": [],
   "source": []
  }
 ],
 "metadata": {
  "kernelspec": {
   "display_name": "Python 3 (ipykernel)",
   "language": "python",
   "name": "python3"
  },
  "language_info": {
   "codemirror_mode": {
    "name": "ipython",
    "version": 3
   },
   "file_extension": ".py",
   "mimetype": "text/x-python",
   "name": "python",
   "nbconvert_exporter": "python",
   "pygments_lexer": "ipython3",
   "version": "3.11.9"
  },
  "widgets": {
   "application/vnd.jupyter.widget-state+json": {
    "state": {},
    "version_major": 2,
    "version_minor": 0
   }
  }
 },
 "nbformat": 4,
 "nbformat_minor": 5
}
