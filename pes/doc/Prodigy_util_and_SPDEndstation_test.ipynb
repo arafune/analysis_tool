{
 "cells": [
  {
   "attachments": {},
   "cell_type": "markdown",
   "id": "7edc0b7a-2a77-4330-9613-93d9638cb066",
   "metadata": {
    "tags": []
   },
   "source": [
    "# PyARPES の使い方（私家版）\n",
    "\n",
    "## はじめに。\n",
    "\n",
    "[pyarpes](https://arpes.readthedocs.io/)といpython ライブラリがある。\n",
    "かなり不完全なところがあって、バギーな関数もある様だけど、一応なりとも使える（かな）。\n",
    "もっともIgorで行う解析と何が違うのか？という疑問はあって、結局Igorでやることになるとは思うのだけど、大量データを扱うことを考えたときに便利かもしれない。\n",
    "というか、便利なのが分かったらIgor procedureを書かないといけないので、そのプロトタイプと考えると良いのかもしれない。\n",
    "基本的に xarray を拡張したファイルを取り扱う設計で、 xarray そのものは安定しているようなので、信頼性は比較的高い。\n"
   ]
  },
  {
   "attachments": {},
   "cell_type": "markdown",
   "id": "9c5f7fe2",
   "metadata": {},
   "source": [
    "## autoreload 関係。\n",
    "最終的にはここは無くてもいい。"
   ]
  },
  {
   "cell_type": "code",
   "execution_count": null,
   "id": "8428ad9c-1054-4959-b629-308d9b93d7aa",
   "metadata": {
    "tags": []
   },
   "outputs": [],
   "source": [
    "%load_ext autoreload\n",
    "%autoreload 2\n",
    "%matplotlib inline"
   ]
  },
  {
   "attachments": {},
   "cell_type": "markdown",
   "id": "ba1f8265",
   "metadata": {},
   "source": [
    "## import \n",
    "\n",
    "以下の様にしておこう。\n",
    "\n",
    "* まあ numpy はいるだろし。\n",
    "* matplotlib もあらわに出しておいた方が、チューニングしやすい。\n",
    "* ARPES データをLogスケールで色付けする可能性があるので。LogNormを導入しておく。\n",
    "* arpes.config は（おそらく）必須。\n",
    "* pes.SPD_main import SPDEndstation は僕が書いた。（ので読むディレクトリが apres. 以下ではない）\n",
    "* qt_tool は PyQtを利用した、データ表示。\n",
    "* ktool は　...\n",
    "* convert_to_kspace は　角度-> 運動量変換（ただ、どこまでデータの内容を考えて変換しようとしているのか、現在（2022/05/09）まだ未決。おそらくは、Binding energyとして処理をすすめることを前提しているようだ。\n",
    "* hvplot.xarray は無くても良いかもしれない。Bokeh を使ってみたいときに。\n",
    "\n",
    "以下のライブラリをロードしてエラーがでないぐらいには、ライブラリをインストールしておく必要があることに注意。"
   ]
  },
  {
   "attachments": {},
   "cell_type": "markdown",
   "id": "5492b75e-ead8-4399-88ec-a910c8ca18c9",
   "metadata": {},
   "source": [
    "PyQt5を要求している。\n",
    "\n",
    "* (pip ではインストール失敗するので、Brew　でインストールする必要がある）。\n",
    "* ```brew install pyqt5``` の後\n",
    "\n",
    "```bash\n",
    "ln -s /opt/homebrew/Cellar/pyqt@5/${pyqt_version}/lib/python${python_version}/site-packages/*  $(dirname $(which python))/../lib/python${python_version}/site-packages/\n",
    "```\n",
    "といった処理が必要かもしれない。"
   ]
  },
  {
   "cell_type": "code",
   "execution_count": null,
   "id": "10e87e32-dd9b-4fed-885d-3a6b63dee972",
   "metadata": {
    "tags": []
   },
   "outputs": [],
   "source": [
    "import numpy as np\n",
    "import matplotlib.pyplot as plt\n",
    "from matplotlib.colors import LogNorm\n",
    "import arpes.config\n",
    "from arpes.io  import load_data\n",
    "from pes.SPD_main import SPDEndstation\n",
    "from arpes.plotting.qt_tool import qt_tool\n",
    "from arpes.plotting.qt_ktool import ktool\n",
    "from arpes.utilities.conversion import convert_to_kspace\n",
    "import hvplot.xarray"
   ]
  },
  {
   "attachments": {},
   "cell_type": "markdown",
   "id": "1ca8579b",
   "metadata": {},
   "source": [
    "## データのロード\n",
    "\n",
    "自分で測定したデータを読み込むために、\n",
    "* from arpes.io  import load_data \n",
    "\n",
    "が必須。\n",
    "\n",
    "自分のデータの内容に不安を覚えたら、\n",
    "* from arpes.io import example_data\n",
    "\n",
    "を使い、\n",
    "\n",
    "```python:\n",
    "ex = example_data.cut\n",
    "```\n",
    "\n",
    "として、　ex の中身を見て比べてみると何かヒントがあるかもしれない。\n"
   ]
  },
  {
   "cell_type": "code",
   "execution_count": null,
   "id": "a619da74-641e-4e9c-ac9d-19bcaa3afe5f",
   "metadata": {},
   "outputs": [],
   "source": [
    "from arpes.io import example_data"
   ]
  },
  {
   "attachments": {},
   "cell_type": "markdown",
   "id": "3686d389",
   "metadata": {},
   "source": [
    "load_data は以上のような関数で、実際に使うだけなら、そんなにむずかしくない。単純に"
   ]
  },
  {
   "cell_type": "code",
   "execution_count": null,
   "id": "26b25fe6-dd76-43e1-b1e6-1c8ca33f0805",
   "metadata": {},
   "outputs": [],
   "source": [
    "f=load_data(\"/Users/arafune/src/analysis_tool/test/pes/data/PES_16_Spectrum_3.itx\",location=\"SPD_phoibos\")\n",
    "# f2 = load_data(\"/Users/arafune/src/analysis_tool/test/pes/GrIr.sp2\", location=\"SPD_phoibos\")"
   ]
  },
  {
   "attachments": {},
   "cell_type": "markdown",
   "id": "bfba6202",
   "metadata": {},
   "source": [
    "でよい。ただし、\n",
    "\n",
    "* x, y, z 軸の値や 角度βを記録に含めたい。\n",
    "\n",
    "など、itx ファイルや、 sp2ファイルに記載されない情報も 付加させたいときは。"
   ]
  },
  {
   "attachments": {},
   "cell_type": "markdown",
   "id": "c2e0a43f",
   "metadata": {},
   "source": [
    "```python\n",
    "f=load_data(\"/Users/arafune/src/analysis_tool/test/pes/PES_16_Spectrum_3.itx\",location=\"SPD_phoibos\",\n",
    "             x=1,\n",
    "             sample_name=\"Cu(111)\")\n",
    "```"
   ]
  },
  {
   "attachments": {},
   "cell_type": "markdown",
   "id": "585353b0",
   "metadata": {},
   "source": [
    "などと、することができる。\n",
    "\n",
    "''x'' や ''sample_name''　などの変数名は予め定義されているのでそれを使うように推奨される。（そうでないと、ただのコメントにしかならない）\n",
    "どのような変数名が公式なものかは、どこにもリストらしきものはないので、実際に読み込んだ後で、チェックする必要があるかもしれない。\n",
    "\n",
    "* sample_name\n",
    "* sample_workfunction \n",
    "\n",
    "がちょっと知らないと使えない変数名。 (\"sample\" ではないし、 \"workfunction\"ではない。（アナライザーの仕事関数として予約されている） )\n",
    "このマニュアルでは（少なくともこのセクションでは）付加情報は加えていない。\n",
    "\n",
    "``xarray_extensions.py`` を読むしかない。"
   ]
  },
  {
   "cell_type": "code",
   "execution_count": null,
   "id": "49acc161-b1f6-4336-b6b0-b4f03d0519f7",
   "metadata": {},
   "outputs": [],
   "source": [
    "f.S.polarization"
   ]
  },
  {
   "cell_type": "code",
   "execution_count": null,
   "id": "89d71153-c36a-427d-9b91-d6c032680662",
   "metadata": {},
   "outputs": [],
   "source": [
    "f.S.history"
   ]
  },
  {
   "cell_type": "code",
   "execution_count": null,
   "id": "f7c4b9fb-7bf5-481b-9d53-dce36c29c67e",
   "metadata": {},
   "outputs": [],
   "source": [
    "f.S.spectrometer_settings"
   ]
  },
  {
   "cell_type": "code",
   "execution_count": null,
   "id": "07cb1d1a",
   "metadata": {},
   "outputs": [],
   "source": [
    "f.S.experimental_conditions"
   ]
  },
  {
   "cell_type": "code",
   "execution_count": null,
   "id": "ba281897-6dfe-4cd6-ae3f-9e7ed725677a",
   "metadata": {},
   "outputs": [],
   "source": [
    "f.S.scan_info"
   ]
  },
  {
   "cell_type": "code",
   "execution_count": null,
   "id": "69990f1a-1d81-4f92-b6cd-ab0745646f2a",
   "metadata": {},
   "outputs": [],
   "source": [
    "f.S.sample_angles"
   ]
  },
  {
   "cell_type": "code",
   "execution_count": null,
   "id": "7b2e3cc8-7507-4d13-92bd-7a1dd380b44b",
   "metadata": {},
   "outputs": [],
   "source": [
    "f.S.sample_pos"
   ]
  },
  {
   "cell_type": "code",
   "execution_count": null,
   "id": "e9010659-658a-4e32-9712-542eb34efe82",
   "metadata": {},
   "outputs": [],
   "source": [
    "f.S.experiment_info"
   ]
  },
  {
   "cell_type": "code",
   "execution_count": null,
   "id": "f0dac378-1d31-40a3-8d50-1a778f519949",
   "metadata": {},
   "outputs": [],
   "source": [
    "f.S.laser_info"
   ]
  },
  {
   "cell_type": "code",
   "execution_count": null,
   "id": "2e6620e2-746c-4a00-b83e-e5d318f71613",
   "metadata": {},
   "outputs": [],
   "source": [
    "f.S.probe_info"
   ]
  },
  {
   "cell_type": "code",
   "execution_count": null,
   "id": "f7a17f44-f296-43c3-925d-bb5df671579d",
   "metadata": {},
   "outputs": [],
   "source": [
    "f.S.pump_info"
   ]
  },
  {
   "cell_type": "code",
   "execution_count": null,
   "id": "61ed074c-211c-47df-8bc6-4d87c3a6e75a",
   "metadata": {},
   "outputs": [],
   "source": [
    "f.S.analyzer_info"
   ]
  },
  {
   "attachments": {},
   "cell_type": "markdown",
   "id": "ca54f323",
   "metadata": {},
   "source": [
    "## Plot\n",
    "\n",
    "機能としてはシンプル。この辺は、 pyarpes の機能ではなく、 xarray の機能と考えるのが無難。\n",
    "上述のごとくxarrayは比較的良く整備されているように見える。\n",
    "ま、ただのデータ構造なので、メンテがそれほど難しくないのかもしれない。\n",
    "\n",
    "### matplotlib base"
   ]
  },
  {
   "cell_type": "code",
   "execution_count": null,
   "id": "0bb65ac4-99ba-4e18-b02a-fed53d5dce30",
   "metadata": {},
   "outputs": [],
   "source": [
    "f.S.sample_work_function"
   ]
  },
  {
   "cell_type": "code",
   "execution_count": null,
   "id": "9182b47a",
   "metadata": {},
   "outputs": [],
   "source": [
    "f.S.plot()"
   ]
  },
  {
   "attachments": {},
   "cell_type": "markdown",
   "id": "342aa2ee-fdb2-4146-8b3d-77bc39fb0cb7",
   "metadata": {},
   "source": [
    "以下ようにすると、matplotlib.pyplot を直接使う事ができるように見える。"
   ]
  },
  {
   "cell_type": "code",
   "execution_count": null,
   "id": "c861a4e9",
   "metadata": {},
   "outputs": [],
   "source": [
    "fig = plt.figure(figsize=(4,3))\n",
    "ax = fig.add_subplot(111)\n",
    "f.S.spectrum.T.plot(ax=ax)"
   ]
  },
  {
   "attachments": {},
   "cell_type": "markdown",
   "id": "ab14d8ee-2ecb-468c-9cb4-7d7cf53e6ee5",
   "metadata": {},
   "source": [
    "しかし、xarray の plot method は matplotlib の thin wrapperなだけなので、出力フォーマットを変えるのであれば、以下のようにする方がよりよい。"
   ]
  },
  {
   "cell_type": "code",
   "execution_count": null,
   "id": "23137e15",
   "metadata": {},
   "outputs": [],
   "source": [
    "f.S.spectrum.T.plot(aspect=.7, size=6, cmap=plt.cm.plasma)\n",
    "plt.ylabel(\"Energy relative to E_F ( eV )\")\n",
    "plt.xlabel(\"Emission Angle ( rad )\")\n",
    "plt.title(\"Xe/Au(111) monochromatic 2PPE\")\n",
    "plt.show()"
   ]
  },
  {
   "cell_type": "code",
   "execution_count": null,
   "id": "26f69739",
   "metadata": {},
   "outputs": [],
   "source": [
    "# Logarithmic scale\n",
    "f.S.spectrum.T.plot(aspect=.7, size=4, cmap=plt.cm.jet, norm=LogNorm(vmin=1, vmax=100))\n",
    "plt.ylabel(\"Energy relative to E_F ( eV )\")\n",
    "plt.xlabel(\"Emission Angle ( rad )\")\n",
    "plt.title(\"Xe/Au(111) monochromatic 2PPE\")\n",
    "plt.show()"
   ]
  },
  {
   "attachments": {},
   "cell_type": "markdown",
   "id": "c97fa442",
   "metadata": {},
   "source": [
    "### Bokeh base \n",
    "\n",
    "Bokeh を使って、インタラクティブな可視化をすることもできる。直接Bokeh を使っても良いはずだろうとは思うけど、ここではhvplot を使ってみる。\n",
    "~~ただし、hvplot の出力はvscode で見ることができない様なので注意。~~ "
   ]
  },
  {
   "cell_type": "code",
   "execution_count": null,
   "id": "ef51643f-a9b0-4b79-a3a4-88230108c4f8",
   "metadata": {},
   "outputs": [],
   "source": [
    "f.hvplot.image(colorbar=True)"
   ]
  },
  {
   "cell_type": "code",
   "execution_count": null,
   "id": "8628f05b-3d7f-4446-8afa-2426bf44fcb5",
   "metadata": {},
   "outputs": [],
   "source": [
    "f.S.spectrum.T.hvplot(invert=True, frame_height=400, frame_width=200)"
   ]
  },
  {
   "attachments": {},
   "cell_type": "markdown",
   "id": "17c76824",
   "metadata": {},
   "source": [
    "## k-space 変換"
   ]
  },
  {
   "cell_type": "markdown",
   "id": "1786af3b-c8d2-430a-a56a-1fb021ba69fe",
   "metadata": {},
   "source": [
    "`convert_to_kspace` というそのものズバリの関数がある。以下の例では、 `kp` を指定してあるが、もし指定しないと適切な範囲を自動的に決めてくれる。ただ、エネルギー軸をどうするかはこれから検証する必要がある。"
   ]
  },
  {
   "cell_type": "code",
   "execution_count": null,
   "id": "5310058f",
   "metadata": {},
   "outputs": [],
   "source": [
    "convert_to_kspace(f.spectrum, kp=np.linspace(-1,1,100)).plot()\n",
    "plt.ylabel(\"Energy relative to E_F ( eV )\")\n",
    "plt.xlabel(\"$k_{//}$\")"
   ]
  },
  {
   "cell_type": "markdown",
   "id": "f2205bd6-d2fa-462a-b30a-10ad4b866d69",
   "metadata": {},
   "source": []
  },
  {
   "cell_type": "markdown",
   "id": "225eea39-eabf-4830-ab0b-eef9121159d1",
   "metadata": {},
   "source": []
  },
  {
   "cell_type": "markdown",
   "id": "5fce113d-d177-43cf-a351-f4bf6a8ea387",
   "metadata": {},
   "source": [
    "## まだよく分かってないこと。\n",
    "\n",
    "* Fermi level correction から アナライザーの misalignment に由来するズレを解消できるか？\n",
    "* attrs.offset や beta angle の設定は自動的に考慮されてしまうのか？\n",
    "\n",
    "いずれにしても、これは個々のケースバイケースの話なので、今回はふれない（ MoTe2 ARPES をこのパッケージで解析すると自動的に上の二つの問題には直面することになる・・・）"
   ]
  },
  {
   "cell_type": "code",
   "execution_count": null,
   "id": "0599bd4e-2848-4e35-903b-5a500d01f4db",
   "metadata": {},
   "outputs": [],
   "source": []
  }
 ],
 "metadata": {
  "interpreter": {
   "hash": "979e4fa6e806255224e54540cb4a56bd960601aad482af6bcc63b7ed560d231e"
  },
  "kernelspec": {
   "display_name": "Python 3 (ipykernel)",
   "language": "python",
   "name": "python3"
  },
  "language_info": {
   "codemirror_mode": {
    "name": "ipython",
    "version": 3
   },
   "file_extension": ".py",
   "mimetype": "text/x-python",
   "name": "python",
   "nbconvert_exporter": "python",
   "pygments_lexer": "ipython3",
   "version": "3.11.3"
  }
 },
 "nbformat": 4,
 "nbformat_minor": 5
}
