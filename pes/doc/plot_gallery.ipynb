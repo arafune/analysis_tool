{
 "cells": [
  {
   "cell_type": "code",
   "execution_count": null,
   "id": "0f8a3222-f894-4dcc-8ce2-c9c4b7e3217d",
   "metadata": {},
   "outputs": [],
   "source": [
    "%matplotlib inline\n",
    "\n",
    "import arpes.config"
   ]
  },
  {
   "cell_type": "code",
   "execution_count": null,
   "id": "5769c15a-7f0d-471f-b3c5-b27f52ba8c00",
   "metadata": {},
   "outputs": [],
   "source": [
    "from arpes.io import example_data\n",
    "\n",
    "dataarray_cut2 = example_data.cut2.spectrum "
   ]
  },
  {
   "cell_type": "markdown",
   "id": "06af8a96-c0be-42db-8536-6dfbc968f7de",
   "metadata": {},
   "source": [
    "# Plot Gallery"
   ]
  },
  {
   "cell_type": "markdown",
   "id": "d40ff985-1f7e-4ef8-a4d9-d31086555b1b",
   "metadata": {},
   "source": [
    "## Stack plot\n",
    "\n",
    "### stack_dispersion_plot"
   ]
  },
  {
   "cell_type": "code",
   "execution_count": null,
   "id": "d74b2db4-b23d-4000-b1ee-c6d664056456",
   "metadata": {},
   "outputs": [],
   "source": [
    "from arpes.plotting import stack_dispersion_plot"
   ]
  },
  {
   "cell_type": "code",
   "execution_count": null,
   "id": "9aef6fcd-d527-4df4-8472-b950d6f224ee",
   "metadata": {},
   "outputs": [],
   "source": [
    "fig1, ax1 =stack_dispersion_plot(\n",
    "    dataarray_cut2,\n",
    ")"
   ]
  },
  {
   "cell_type": "markdown",
   "id": "d1a011ed-de0b-4837-b9d6-acfa219630e0",
   "metadata": {},
   "source": [
    "Many option to decorate the plot."
   ]
  },
  {
   "cell_type": "code",
   "execution_count": null,
   "id": "d8a716dc-46f4-4ce9-9dd2-a1aac4c4487d",
   "metadata": {},
   "outputs": [],
   "source": [
    "fig1, ax1 =stack_dispersion_plot(\n",
    "    dataarray_cut2,\n",
    "    max_stacks=20,\n",
    "    scale_factor=.2,\n",
    "    title=\"2PPE Xe/Au(111)\",\n",
    "    linewidth=0.5,\n",
    "    color=\"plasma\",\n",
    "    shift=0.00,\n",
    "    mode=\"hide_line\",\n",
    "    offset_correction=\"zero\",\n",
    "    figsize=(8,3)\n",
    ")"
   ]
  },
  {
   "cell_type": "code",
   "execution_count": null,
   "id": "deaab6ac-2449-40c3-8635-72065cb4797e",
   "metadata": {},
   "outputs": [],
   "source": [
    "stack_dispersion_plot?"
   ]
  },
  {
   "cell_type": "markdown",
   "id": "af26245d-0882-4d30-a725-7d4a6374f2fe",
   "metadata": {},
   "source": [
    "### flat_stack_plot"
   ]
  },
  {
   "cell_type": "code",
   "execution_count": null,
   "id": "e178a5ce-5a7e-44a0-a254-ddd5d040a9d3",
   "metadata": {},
   "outputs": [],
   "source": [
    "from arpes.plotting import flat_stack_plot"
   ]
  },
  {
   "cell_type": "code",
   "execution_count": null,
   "id": "1dc6f873-55ee-49c7-a312-c7203733072e",
   "metadata": {},
   "outputs": [],
   "source": [
    "fig1, ax1 = flat_stack_plot(\n",
    "    dataarray_cut2,\n",
    ")"
   ]
  },
  {
   "cell_type": "markdown",
   "id": "03f5d79a-3c3f-4696-ac48-2bb79bb195aa",
   "metadata": {},
   "source": [
    "This function also has many options."
   ]
  },
  {
   "cell_type": "code",
   "execution_count": null,
   "id": "ef31b82d-6fdc-4aaa-91a4-b5c9c4a00997",
   "metadata": {},
   "outputs": [],
   "source": [
    "fig1, ax1 = flat_stack_plot(\n",
    "    dataarray_cut2,\n",
    "    max_stacks = 30,\n",
    "    figsize=(7,3)\n",
    ")"
   ]
  },
  {
   "cell_type": "code",
   "execution_count": null,
   "id": "eb665889-f7a9-4694-aad3-31e8ff14da9c",
   "metadata": {},
   "outputs": [],
   "source": [
    "flat_stack_plot?"
   ]
  },
  {
   "cell_type": "code",
   "execution_count": null,
   "id": "9b155d4c-14d8-4e32-a7e2-9470e12511fd",
   "metadata": {},
   "outputs": [],
   "source": [
    "fig1, ax1 = flat_stack_plot(\n",
    "    dataarray_cut2,\n",
    "    max_stacks = 30,\n",
    "    figsize=(7,3),\n",
    "    stack_axis=\"eV\"\n",
    ")"
   ]
  },
  {
   "cell_type": "code",
   "execution_count": null,
   "id": "153738e5-4154-4a95-99cc-5b22ea210971",
   "metadata": {},
   "outputs": [],
   "source": []
  }
 ],
 "metadata": {
  "kernelspec": {
   "display_name": "Python 3 (ipykernel)",
   "language": "python",
   "name": "python3"
  },
  "language_info": {
   "codemirror_mode": {
    "name": "ipython",
    "version": 3
   },
   "file_extension": ".py",
   "mimetype": "text/x-python",
   "name": "python",
   "nbconvert_exporter": "python",
   "pygments_lexer": "ipython3",
   "version": "3.11.9"
  },
  "widgets": {
   "application/vnd.jupyter.widget-state+json": {
    "state": {},
    "version_major": 2,
    "version_minor": 0
   }
  }
 },
 "nbformat": 4,
 "nbformat_minor": 5
}
